{
 "cells": [
  {
   "cell_type": "markdown",
   "metadata": {},
   "source": [
    "# Starbucks Capstone Challenge\n",
    "\n",
    "### Introduction\n",
    "\n",
    "This data set contains simulated data that mimics customer behavior on the Starbucks rewards mobile app. Once every few days, Starbucks sends out an offer to users of the mobile app. An offer can be merely an advertisement for a drink or an actual offer such as a discount or BOGO (buy one get one free). Some users might not receive any offer during certain weeks. \n",
    "\n",
    "Not all users receive the same offer, and that is the challenge to solve with this data set.\n",
    "\n",
    "Your task is to combine transaction, demographic and offer data to determine which demographic groups respond best to which offer type. This data set is a simplified version of the real Starbucks app because the underlying simulator only has one product whereas Starbucks actually sells dozens of products.\n",
    "\n",
    "Every offer has a validity period before the offer expires. As an example, a BOGO offer might be valid for only 5 days. You'll see in the data set that informational offers have a validity period even though these ads are merely providing information about a product; for example, if an informational offer has 7 days of validity, you can assume the customer is feeling the influence of the offer for 7 days after receiving the advertisement.\n",
    "\n",
    "You'll be given transactional data showing user purchases made on the app including the timestamp of purchase and the amount of money spent on a purchase. This transactional data also has a record for each offer that a user receives as well as a record for when a user actually views the offer. There are also records for when a user completes an offer. \n",
    "\n",
    "Keep in mind as well that someone using the app might make a purchase through the app without having received an offer or seen an offer.\n",
    "\n",
    "### Example\n",
    "\n",
    "To give an example, a user could receive a discount offer buy 10 dollars get 2 off on Monday. The offer is valid for 10 days from receipt. If the customer accumulates at least 10 dollars in purchases during the validity period, the customer completes the offer.\n",
    "\n",
    "However, there are a few things to watch out for in this data set. Customers do not opt into the offers that they receive; in other words, a user can receive an offer, never actually view the offer, and still complete the offer. For example, a user might receive the \"buy 10 dollars get 2 dollars off offer\", but the user never opens the offer during the 10 day validity period. The customer spends 15 dollars during those ten days. There will be an offer completion record in the data set; however, the customer was not influenced by the offer because the customer never viewed the offer.\n",
    "\n",
    "### Cleaning\n",
    "\n",
    "This makes data cleaning especially important and tricky.\n",
    "\n",
    "You'll also want to take into account that some demographic groups will make purchases even if they don't receive an offer. From a business perspective, if a customer is going to make a 10 dollar purchase without an offer anyway, you wouldn't want to send a buy 10 dollars get 2 dollars off offer. You'll want to try to assess what a certain demographic group will buy when not receiving any offers.\n",
    "\n",
    "### Final Advice\n",
    "\n",
    "Because this is a capstone project, you are free to analyze the data any way you see fit. For example, you could build a machine learning model that predicts how much someone will spend based on demographics and offer type. Or you could build a model that predicts whether or not someone will respond to an offer. Or, you don't need to build a machine learning model at all. You could develop a set of heuristics that determine what offer you should send to each customer (i.e., 75 percent of women customers who were 35 years old responded to offer A vs 40 percent from the same demographic to offer B, so send offer A)."
   ]
  },
  {
   "cell_type": "markdown",
   "metadata": {},
   "source": []
  },
  {
   "cell_type": "markdown",
   "metadata": {},
   "source": [
    "# Data Sets\n",
    "\n",
    "The data is contained in three files:\n",
    "\n",
    "* portfolio.json - containing offer ids and meta data about each offer (duration, type, etc.)\n",
    "* profile.json - demographic data for each customer\n",
    "* transcript.json - records for transactions, offers received, offers viewed, and offers completed\n",
    "\n",
    "Here is the schema and explanation of each variable in the files:\n",
    "\n",
    "**portfolio.json**\n",
    "* id (string) - offer id\n",
    "* offer_type (string) - type of offer ie BOGO, discount, informational\n",
    "* difficulty (int) - minimum required spend to complete an offer\n",
    "* reward (int) - reward given for completing an offer\n",
    "* duration (int) - time for offer to be open, in days\n",
    "* channels (list of strings)\n",
    "\n",
    "**profile.json**\n",
    "* age (int) - age of the customer \n",
    "* became_member_on (int) - date when customer created an app account\n",
    "* gender (str) - gender of the customer (note some entries contain 'O' for other rather than M or F)\n",
    "* id (str) - customer id\n",
    "* income (float) - customer's income\n",
    "\n",
    "**transcript.json**\n",
    "* event (str) - record description (ie transaction, offer received, offer viewed, etc.)\n",
    "* person (str) - customer id\n",
    "* time (int) - time in hours since start of test. The data begins at time t=0\n",
    "* value - (dict of strings) - either an offer id or transaction amount depending on the record\n",
    "\n",
    "**Note:** If you are using the workspace, you will need to go to the terminal and run the command `conda update pandas` before reading in the files. This is because the version of pandas in the workspace cannot read in the transcript.json file correctly, but the newest version of pandas can. You can access the termnal from the orange icon in the top left of this notebook.  \n",
    "\n",
    "You can see how to access the terminal and how the install works using the two images below.  First you need to access the terminal:\n",
    "\n",
    "<img src=\"pic1.png\"/>\n",
    "\n",
    "Then you will want to run the above command:\n",
    "\n",
    "<img src=\"pic2.png\"/>\n",
    "\n",
    "Finally, when you enter back into the notebook (use the jupyter icon again), you should be able to run the below cell without any errors."
   ]
  },
  {
   "cell_type": "markdown",
   "metadata": {},
   "source": [
    "## Project Overview\n",
    "\n",
    "In this project we will look at the Starbucks offer data, explore different offer types, see what a successful offer means for each type, analyse the customer data, and finally use machine learning models to predict offer success rate and what features are more important for predicting an offer's success."
   ]
  },
  {
   "cell_type": "code",
   "execution_count": 1,
   "metadata": {},
   "outputs": [],
   "source": [
    "import pandas as pd\n",
    "import numpy as np\n",
    "import math\n",
    "import json\n",
    "% matplotlib inline\n",
    "import visuals as vs\n",
    "import datetime\n",
    "from datetime import date\n",
    "from sklearn.model_selection import train_test_split\n",
    "from sklearn.preprocessing import StandardScaler, MinMaxScaler\n",
    "from sklearn.tree import DecisionTreeClassifier\n",
    "from sklearn.ensemble import RandomForestClassifier, AdaBoostClassifier, GradientBoostingClassifier\n",
    "from sklearn.preprocessing import PolynomialFeatures, LabelBinarizer\n",
    "from sklearn.metrics import mean_squared_error\n",
    "from sklearn.metrics import classification_report\n",
    "from sklearn.metrics import accuracy_score, precision_score, recall_score, f1_score, fbeta_score\n",
    "from time import time\n",
    "from sklearn.model_selection import GridSearchCV\n",
    "from sklearn.metrics import make_scorer\n",
    "import matplotlib.pyplot as plt\n",
    "from sklearn.linear_model import Ridge\n",
    "from sklearn.tree import DecisionTreeRegressor\n",
    "import seaborn as sns\n",
    "\n",
    "# read in the json files\n",
    "portfolio = pd.read_json('data/portfolio.json', orient='records', lines=True)\n",
    "profile = pd.read_json('data/profile.json', orient='records', lines=True)\n",
    "transcript = pd.read_json('data/transcript.json', orient='records', lines=True)"
   ]
  },
  {
   "cell_type": "markdown",
   "metadata": {},
   "source": [
    "## Data Exploration and Cleaning\n",
    "\n",
    "To begin with, we have three files provided. \n",
    "- Portfolio- includes information on different starbucks offers\n",
    "- Profile - Customer demographics- any population that received/viewed/completed the offer\n",
    "- Transcript - Customer transaction data\n",
    "\n",
    "We will begin with exploring each of these files to get more information on the data within."
   ]
  },
  {
   "cell_type": "markdown",
   "metadata": {},
   "source": [
    "### Portfolio Data"
   ]
  },
  {
   "cell_type": "code",
   "execution_count": 2,
   "metadata": {},
   "outputs": [
    {
     "data": {
      "text/html": [
       "<div>\n",
       "<style scoped>\n",
       "    .dataframe tbody tr th:only-of-type {\n",
       "        vertical-align: middle;\n",
       "    }\n",
       "\n",
       "    .dataframe tbody tr th {\n",
       "        vertical-align: top;\n",
       "    }\n",
       "\n",
       "    .dataframe thead th {\n",
       "        text-align: right;\n",
       "    }\n",
       "</style>\n",
       "<table border=\"1\" class=\"dataframe\">\n",
       "  <thead>\n",
       "    <tr style=\"text-align: right;\">\n",
       "      <th></th>\n",
       "      <th>channels</th>\n",
       "      <th>difficulty</th>\n",
       "      <th>duration</th>\n",
       "      <th>id</th>\n",
       "      <th>offer_type</th>\n",
       "      <th>reward</th>\n",
       "    </tr>\n",
       "  </thead>\n",
       "  <tbody>\n",
       "    <tr>\n",
       "      <th>0</th>\n",
       "      <td>[email, mobile, social]</td>\n",
       "      <td>10</td>\n",
       "      <td>7</td>\n",
       "      <td>ae264e3637204a6fb9bb56bc8210ddfd</td>\n",
       "      <td>bogo</td>\n",
       "      <td>10</td>\n",
       "    </tr>\n",
       "    <tr>\n",
       "      <th>1</th>\n",
       "      <td>[web, email, mobile, social]</td>\n",
       "      <td>10</td>\n",
       "      <td>5</td>\n",
       "      <td>4d5c57ea9a6940dd891ad53e9dbe8da0</td>\n",
       "      <td>bogo</td>\n",
       "      <td>10</td>\n",
       "    </tr>\n",
       "    <tr>\n",
       "      <th>2</th>\n",
       "      <td>[web, email, mobile]</td>\n",
       "      <td>0</td>\n",
       "      <td>4</td>\n",
       "      <td>3f207df678b143eea3cee63160fa8bed</td>\n",
       "      <td>informational</td>\n",
       "      <td>0</td>\n",
       "    </tr>\n",
       "    <tr>\n",
       "      <th>3</th>\n",
       "      <td>[web, email, mobile]</td>\n",
       "      <td>5</td>\n",
       "      <td>7</td>\n",
       "      <td>9b98b8c7a33c4b65b9aebfe6a799e6d9</td>\n",
       "      <td>bogo</td>\n",
       "      <td>5</td>\n",
       "    </tr>\n",
       "    <tr>\n",
       "      <th>4</th>\n",
       "      <td>[web, email]</td>\n",
       "      <td>20</td>\n",
       "      <td>10</td>\n",
       "      <td>0b1e1539f2cc45b7b9fa7c272da2e1d7</td>\n",
       "      <td>discount</td>\n",
       "      <td>5</td>\n",
       "    </tr>\n",
       "    <tr>\n",
       "      <th>5</th>\n",
       "      <td>[web, email, mobile, social]</td>\n",
       "      <td>7</td>\n",
       "      <td>7</td>\n",
       "      <td>2298d6c36e964ae4a3e7e9706d1fb8c2</td>\n",
       "      <td>discount</td>\n",
       "      <td>3</td>\n",
       "    </tr>\n",
       "    <tr>\n",
       "      <th>6</th>\n",
       "      <td>[web, email, mobile, social]</td>\n",
       "      <td>10</td>\n",
       "      <td>10</td>\n",
       "      <td>fafdcd668e3743c1bb461111dcafc2a4</td>\n",
       "      <td>discount</td>\n",
       "      <td>2</td>\n",
       "    </tr>\n",
       "    <tr>\n",
       "      <th>7</th>\n",
       "      <td>[email, mobile, social]</td>\n",
       "      <td>0</td>\n",
       "      <td>3</td>\n",
       "      <td>5a8bc65990b245e5a138643cd4eb9837</td>\n",
       "      <td>informational</td>\n",
       "      <td>0</td>\n",
       "    </tr>\n",
       "    <tr>\n",
       "      <th>8</th>\n",
       "      <td>[web, email, mobile, social]</td>\n",
       "      <td>5</td>\n",
       "      <td>5</td>\n",
       "      <td>f19421c1d4aa40978ebb69ca19b0e20d</td>\n",
       "      <td>bogo</td>\n",
       "      <td>5</td>\n",
       "    </tr>\n",
       "    <tr>\n",
       "      <th>9</th>\n",
       "      <td>[web, email, mobile]</td>\n",
       "      <td>10</td>\n",
       "      <td>7</td>\n",
       "      <td>2906b810c7d4411798c6938adc9daaa5</td>\n",
       "      <td>discount</td>\n",
       "      <td>2</td>\n",
       "    </tr>\n",
       "  </tbody>\n",
       "</table>\n",
       "</div>"
      ],
      "text/plain": [
       "                       channels  difficulty  duration  \\\n",
       "0       [email, mobile, social]          10         7   \n",
       "1  [web, email, mobile, social]          10         5   \n",
       "2          [web, email, mobile]           0         4   \n",
       "3          [web, email, mobile]           5         7   \n",
       "4                  [web, email]          20        10   \n",
       "5  [web, email, mobile, social]           7         7   \n",
       "6  [web, email, mobile, social]          10        10   \n",
       "7       [email, mobile, social]           0         3   \n",
       "8  [web, email, mobile, social]           5         5   \n",
       "9          [web, email, mobile]          10         7   \n",
       "\n",
       "                                 id     offer_type  reward  \n",
       "0  ae264e3637204a6fb9bb56bc8210ddfd           bogo      10  \n",
       "1  4d5c57ea9a6940dd891ad53e9dbe8da0           bogo      10  \n",
       "2  3f207df678b143eea3cee63160fa8bed  informational       0  \n",
       "3  9b98b8c7a33c4b65b9aebfe6a799e6d9           bogo       5  \n",
       "4  0b1e1539f2cc45b7b9fa7c272da2e1d7       discount       5  \n",
       "5  2298d6c36e964ae4a3e7e9706d1fb8c2       discount       3  \n",
       "6  fafdcd668e3743c1bb461111dcafc2a4       discount       2  \n",
       "7  5a8bc65990b245e5a138643cd4eb9837  informational       0  \n",
       "8  f19421c1d4aa40978ebb69ca19b0e20d           bogo       5  \n",
       "9  2906b810c7d4411798c6938adc9daaa5       discount       2  "
      ]
     },
     "execution_count": 2,
     "metadata": {},
     "output_type": "execute_result"
    }
   ],
   "source": [
    "portfolio"
   ]
  },
  {
   "cell_type": "markdown",
   "metadata": {},
   "source": [
    "From above cell, we can see that there are 10 offers in total, and are categorized into three types, bogo (buy one get one free), discount (discount provided on purchasing), and informational (more about informing about different starbucks products). We can also see that each offer has a validity period (duration), and needs the customer to spend a minimum amount (difficulty), to get the reward. Since teh cell is entire portfolio dataset, we can alse see that there are no null values."
   ]
  },
  {
   "cell_type": "code",
   "execution_count": 3,
   "metadata": {},
   "outputs": [
    {
     "data": {
      "text/plain": [
       "channels      0\n",
       "difficulty    0\n",
       "duration      0\n",
       "id            0\n",
       "offer_type    0\n",
       "reward        0\n",
       "dtype: int64"
      ]
     },
     "execution_count": 3,
     "metadata": {},
     "output_type": "execute_result"
    }
   ],
   "source": [
    "portfolio.isnull().sum()"
   ]
  },
  {
   "cell_type": "markdown",
   "metadata": {},
   "source": [
    "Now we have seen the portfolio data, we can see that the channel column is listed. I will separate it out so elements in the list become categorical variables. ThenI will rename id and reward columns to celarly say what they mean. "
   ]
  },
  {
   "cell_type": "code",
   "execution_count": 4,
   "metadata": {},
   "outputs": [],
   "source": [
    "portfolio=portfolio.join(portfolio['channels'].str.join('|').str.get_dummies())"
   ]
  },
  {
   "cell_type": "code",
   "execution_count": 5,
   "metadata": {},
   "outputs": [],
   "source": [
    "portfolio=portfolio.join(portfolio['offer_type'].str.get_dummies())"
   ]
  },
  {
   "cell_type": "code",
   "execution_count": 6,
   "metadata": {},
   "outputs": [],
   "source": [
    "portfolio.drop(['channels', 'offer_type'], axis=1, inplace=True)"
   ]
  },
  {
   "cell_type": "code",
   "execution_count": 7,
   "metadata": {},
   "outputs": [],
   "source": [
    "portfolio = portfolio.rename(columns={\"id\": \"offer_id\", 'reward':'totalreward'})"
   ]
  },
  {
   "cell_type": "code",
   "execution_count": 8,
   "metadata": {},
   "outputs": [
    {
     "data": {
      "text/html": [
       "<div>\n",
       "<style scoped>\n",
       "    .dataframe tbody tr th:only-of-type {\n",
       "        vertical-align: middle;\n",
       "    }\n",
       "\n",
       "    .dataframe tbody tr th {\n",
       "        vertical-align: top;\n",
       "    }\n",
       "\n",
       "    .dataframe thead th {\n",
       "        text-align: right;\n",
       "    }\n",
       "</style>\n",
       "<table border=\"1\" class=\"dataframe\">\n",
       "  <thead>\n",
       "    <tr style=\"text-align: right;\">\n",
       "      <th></th>\n",
       "      <th>difficulty</th>\n",
       "      <th>duration</th>\n",
       "      <th>offer_id</th>\n",
       "      <th>totalreward</th>\n",
       "      <th>email</th>\n",
       "      <th>mobile</th>\n",
       "      <th>social</th>\n",
       "      <th>web</th>\n",
       "      <th>bogo</th>\n",
       "      <th>discount</th>\n",
       "      <th>informational</th>\n",
       "    </tr>\n",
       "  </thead>\n",
       "  <tbody>\n",
       "    <tr>\n",
       "      <th>0</th>\n",
       "      <td>10</td>\n",
       "      <td>7</td>\n",
       "      <td>ae264e3637204a6fb9bb56bc8210ddfd</td>\n",
       "      <td>10</td>\n",
       "      <td>1</td>\n",
       "      <td>1</td>\n",
       "      <td>1</td>\n",
       "      <td>0</td>\n",
       "      <td>1</td>\n",
       "      <td>0</td>\n",
       "      <td>0</td>\n",
       "    </tr>\n",
       "    <tr>\n",
       "      <th>1</th>\n",
       "      <td>10</td>\n",
       "      <td>5</td>\n",
       "      <td>4d5c57ea9a6940dd891ad53e9dbe8da0</td>\n",
       "      <td>10</td>\n",
       "      <td>1</td>\n",
       "      <td>1</td>\n",
       "      <td>1</td>\n",
       "      <td>1</td>\n",
       "      <td>1</td>\n",
       "      <td>0</td>\n",
       "      <td>0</td>\n",
       "    </tr>\n",
       "    <tr>\n",
       "      <th>2</th>\n",
       "      <td>0</td>\n",
       "      <td>4</td>\n",
       "      <td>3f207df678b143eea3cee63160fa8bed</td>\n",
       "      <td>0</td>\n",
       "      <td>1</td>\n",
       "      <td>1</td>\n",
       "      <td>0</td>\n",
       "      <td>1</td>\n",
       "      <td>0</td>\n",
       "      <td>0</td>\n",
       "      <td>1</td>\n",
       "    </tr>\n",
       "    <tr>\n",
       "      <th>3</th>\n",
       "      <td>5</td>\n",
       "      <td>7</td>\n",
       "      <td>9b98b8c7a33c4b65b9aebfe6a799e6d9</td>\n",
       "      <td>5</td>\n",
       "      <td>1</td>\n",
       "      <td>1</td>\n",
       "      <td>0</td>\n",
       "      <td>1</td>\n",
       "      <td>1</td>\n",
       "      <td>0</td>\n",
       "      <td>0</td>\n",
       "    </tr>\n",
       "    <tr>\n",
       "      <th>4</th>\n",
       "      <td>20</td>\n",
       "      <td>10</td>\n",
       "      <td>0b1e1539f2cc45b7b9fa7c272da2e1d7</td>\n",
       "      <td>5</td>\n",
       "      <td>1</td>\n",
       "      <td>0</td>\n",
       "      <td>0</td>\n",
       "      <td>1</td>\n",
       "      <td>0</td>\n",
       "      <td>1</td>\n",
       "      <td>0</td>\n",
       "    </tr>\n",
       "    <tr>\n",
       "      <th>5</th>\n",
       "      <td>7</td>\n",
       "      <td>7</td>\n",
       "      <td>2298d6c36e964ae4a3e7e9706d1fb8c2</td>\n",
       "      <td>3</td>\n",
       "      <td>1</td>\n",
       "      <td>1</td>\n",
       "      <td>1</td>\n",
       "      <td>1</td>\n",
       "      <td>0</td>\n",
       "      <td>1</td>\n",
       "      <td>0</td>\n",
       "    </tr>\n",
       "    <tr>\n",
       "      <th>6</th>\n",
       "      <td>10</td>\n",
       "      <td>10</td>\n",
       "      <td>fafdcd668e3743c1bb461111dcafc2a4</td>\n",
       "      <td>2</td>\n",
       "      <td>1</td>\n",
       "      <td>1</td>\n",
       "      <td>1</td>\n",
       "      <td>1</td>\n",
       "      <td>0</td>\n",
       "      <td>1</td>\n",
       "      <td>0</td>\n",
       "    </tr>\n",
       "    <tr>\n",
       "      <th>7</th>\n",
       "      <td>0</td>\n",
       "      <td>3</td>\n",
       "      <td>5a8bc65990b245e5a138643cd4eb9837</td>\n",
       "      <td>0</td>\n",
       "      <td>1</td>\n",
       "      <td>1</td>\n",
       "      <td>1</td>\n",
       "      <td>0</td>\n",
       "      <td>0</td>\n",
       "      <td>0</td>\n",
       "      <td>1</td>\n",
       "    </tr>\n",
       "    <tr>\n",
       "      <th>8</th>\n",
       "      <td>5</td>\n",
       "      <td>5</td>\n",
       "      <td>f19421c1d4aa40978ebb69ca19b0e20d</td>\n",
       "      <td>5</td>\n",
       "      <td>1</td>\n",
       "      <td>1</td>\n",
       "      <td>1</td>\n",
       "      <td>1</td>\n",
       "      <td>1</td>\n",
       "      <td>0</td>\n",
       "      <td>0</td>\n",
       "    </tr>\n",
       "    <tr>\n",
       "      <th>9</th>\n",
       "      <td>10</td>\n",
       "      <td>7</td>\n",
       "      <td>2906b810c7d4411798c6938adc9daaa5</td>\n",
       "      <td>2</td>\n",
       "      <td>1</td>\n",
       "      <td>1</td>\n",
       "      <td>0</td>\n",
       "      <td>1</td>\n",
       "      <td>0</td>\n",
       "      <td>1</td>\n",
       "      <td>0</td>\n",
       "    </tr>\n",
       "  </tbody>\n",
       "</table>\n",
       "</div>"
      ],
      "text/plain": [
       "   difficulty  duration                          offer_id  totalreward  email  \\\n",
       "0          10         7  ae264e3637204a6fb9bb56bc8210ddfd           10      1   \n",
       "1          10         5  4d5c57ea9a6940dd891ad53e9dbe8da0           10      1   \n",
       "2           0         4  3f207df678b143eea3cee63160fa8bed            0      1   \n",
       "3           5         7  9b98b8c7a33c4b65b9aebfe6a799e6d9            5      1   \n",
       "4          20        10  0b1e1539f2cc45b7b9fa7c272da2e1d7            5      1   \n",
       "5           7         7  2298d6c36e964ae4a3e7e9706d1fb8c2            3      1   \n",
       "6          10        10  fafdcd668e3743c1bb461111dcafc2a4            2      1   \n",
       "7           0         3  5a8bc65990b245e5a138643cd4eb9837            0      1   \n",
       "8           5         5  f19421c1d4aa40978ebb69ca19b0e20d            5      1   \n",
       "9          10         7  2906b810c7d4411798c6938adc9daaa5            2      1   \n",
       "\n",
       "   mobile  social  web  bogo  discount  informational  \n",
       "0       1       1    0     1         0              0  \n",
       "1       1       1    1     1         0              0  \n",
       "2       1       0    1     0         0              1  \n",
       "3       1       0    1     1         0              0  \n",
       "4       0       0    1     0         1              0  \n",
       "5       1       1    1     0         1              0  \n",
       "6       1       1    1     0         1              0  \n",
       "7       1       1    0     0         0              1  \n",
       "8       1       1    1     1         0              0  \n",
       "9       1       0    1     0         1              0  "
      ]
     },
     "execution_count": 8,
     "metadata": {},
     "output_type": "execute_result"
    }
   ],
   "source": [
    "portfolio"
   ]
  },
  {
   "cell_type": "markdown",
   "metadata": {},
   "source": [
    "### Profile Data"
   ]
  },
  {
   "cell_type": "code",
   "execution_count": 9,
   "metadata": {},
   "outputs": [
    {
     "data": {
      "text/html": [
       "<div>\n",
       "<style scoped>\n",
       "    .dataframe tbody tr th:only-of-type {\n",
       "        vertical-align: middle;\n",
       "    }\n",
       "\n",
       "    .dataframe tbody tr th {\n",
       "        vertical-align: top;\n",
       "    }\n",
       "\n",
       "    .dataframe thead th {\n",
       "        text-align: right;\n",
       "    }\n",
       "</style>\n",
       "<table border=\"1\" class=\"dataframe\">\n",
       "  <thead>\n",
       "    <tr style=\"text-align: right;\">\n",
       "      <th></th>\n",
       "      <th>age</th>\n",
       "      <th>became_member_on</th>\n",
       "      <th>gender</th>\n",
       "      <th>id</th>\n",
       "      <th>income</th>\n",
       "    </tr>\n",
       "  </thead>\n",
       "  <tbody>\n",
       "    <tr>\n",
       "      <th>0</th>\n",
       "      <td>118</td>\n",
       "      <td>20170212</td>\n",
       "      <td>None</td>\n",
       "      <td>68be06ca386d4c31939f3a4f0e3dd783</td>\n",
       "      <td>NaN</td>\n",
       "    </tr>\n",
       "    <tr>\n",
       "      <th>1</th>\n",
       "      <td>55</td>\n",
       "      <td>20170715</td>\n",
       "      <td>F</td>\n",
       "      <td>0610b486422d4921ae7d2bf64640c50b</td>\n",
       "      <td>112000.0</td>\n",
       "    </tr>\n",
       "    <tr>\n",
       "      <th>2</th>\n",
       "      <td>118</td>\n",
       "      <td>20180712</td>\n",
       "      <td>None</td>\n",
       "      <td>38fe809add3b4fcf9315a9694bb96ff5</td>\n",
       "      <td>NaN</td>\n",
       "    </tr>\n",
       "    <tr>\n",
       "      <th>3</th>\n",
       "      <td>75</td>\n",
       "      <td>20170509</td>\n",
       "      <td>F</td>\n",
       "      <td>78afa995795e4d85b5d9ceeca43f5fef</td>\n",
       "      <td>100000.0</td>\n",
       "    </tr>\n",
       "    <tr>\n",
       "      <th>4</th>\n",
       "      <td>118</td>\n",
       "      <td>20170804</td>\n",
       "      <td>None</td>\n",
       "      <td>a03223e636434f42ac4c3df47e8bac43</td>\n",
       "      <td>NaN</td>\n",
       "    </tr>\n",
       "  </tbody>\n",
       "</table>\n",
       "</div>"
      ],
      "text/plain": [
       "   age  became_member_on gender                                id    income\n",
       "0  118          20170212   None  68be06ca386d4c31939f3a4f0e3dd783       NaN\n",
       "1   55          20170715      F  0610b486422d4921ae7d2bf64640c50b  112000.0\n",
       "2  118          20180712   None  38fe809add3b4fcf9315a9694bb96ff5       NaN\n",
       "3   75          20170509      F  78afa995795e4d85b5d9ceeca43f5fef  100000.0\n",
       "4  118          20170804   None  a03223e636434f42ac4c3df47e8bac43       NaN"
      ]
     },
     "execution_count": 9,
     "metadata": {},
     "output_type": "execute_result"
    }
   ],
   "source": [
    "profile.head()"
   ]
  },
  {
   "cell_type": "code",
   "execution_count": 10,
   "metadata": {},
   "outputs": [
    {
     "data": {
      "text/plain": [
       "age                    0\n",
       "became_member_on       0\n",
       "gender              2175\n",
       "id                     0\n",
       "income              2175\n",
       "dtype: int64"
      ]
     },
     "execution_count": 10,
     "metadata": {},
     "output_type": "execute_result"
    }
   ],
   "source": [
    "profile.isnull().sum()"
   ]
  },
  {
   "cell_type": "code",
   "execution_count": 11,
   "metadata": {},
   "outputs": [],
   "source": [
    "profile = profile.rename(columns={'id':'Customer_id'})"
   ]
  },
  {
   "cell_type": "markdown",
   "metadata": {},
   "source": [
    "From above cells we can see that this file contains customer demographics data. We can see that there are some null values associated with gender and income. Before we explore further, lets look at the data distribution by age."
   ]
  },
  {
   "cell_type": "code",
   "execution_count": 12,
   "metadata": {},
   "outputs": [
    {
     "data": {
      "text/plain": [
       "<matplotlib.axes._subplots.AxesSubplot at 0x7f89b0229128>"
      ]
     },
     "execution_count": 12,
     "metadata": {},
     "output_type": "execute_result"
    },
    {
     "data": {
      "image/png": "[encoded data removed]",
      "text/plain": [
       "<matplotlib.figure.Figure at 0x7f89b0229048>"
      ]
     },
     "metadata": {
      "needs_background": "light"
     },
     "output_type": "display_data"
    }
   ],
   "source": [
    "profile.age.hist()"
   ]
  },
  {
   "cell_type": "markdown",
   "metadata": {},
   "source": [
    "From the above graph, we can there are some outliers. Ages 115 and plus seem to be that outlier category. Let's look at this age category further. "
   ]
  },
  {
   "cell_type": "code",
   "execution_count": 13,
   "metadata": {},
   "outputs": [
    {
     "data": {
      "text/plain": [
       "17000"
      ]
     },
     "execution_count": 13,
     "metadata": {},
     "output_type": "execute_result"
    }
   ],
   "source": [
    "profile.Customer_id.nunique()"
   ]
  },
  {
   "cell_type": "code",
   "execution_count": 14,
   "metadata": {},
   "outputs": [
    {
     "data": {
      "text/plain": [
       "2175"
      ]
     },
     "execution_count": 14,
     "metadata": {},
     "output_type": "execute_result"
    }
   ],
   "source": [
    "profile[profile['age']>115].Customer_id.nunique()"
   ]
  },
  {
   "cell_type": "code",
   "execution_count": 15,
   "metadata": {},
   "outputs": [
    {
     "data": {
      "text/plain": [
       "0.0"
      ]
     },
     "execution_count": 15,
     "metadata": {},
     "output_type": "execute_result"
    }
   ],
   "source": [
    "profile[profile['age']>115].income.sum()"
   ]
  },
  {
   "cell_type": "code",
   "execution_count": 16,
   "metadata": {},
   "outputs": [
    {
     "data": {
      "text/plain": [
       "0        None\n",
       "2        None\n",
       "4        None\n",
       "6        None\n",
       "7        None\n",
       "9        None\n",
       "10       None\n",
       "11       None\n",
       "17       None\n",
       "23       None\n",
       "26       None\n",
       "36       None\n",
       "39       None\n",
       "44       None\n",
       "45       None\n",
       "54       None\n",
       "56       None\n",
       "57       None\n",
       "80       None\n",
       "84       None\n",
       "96       None\n",
       "103      None\n",
       "104      None\n",
       "108      None\n",
       "121      None\n",
       "122      None\n",
       "128      None\n",
       "143      None\n",
       "169      None\n",
       "172      None\n",
       "         ... \n",
       "16820    None\n",
       "16829    None\n",
       "16831    None\n",
       "16835    None\n",
       "16839    None\n",
       "16842    None\n",
       "16844    None\n",
       "16845    None\n",
       "16852    None\n",
       "16853    None\n",
       "16856    None\n",
       "16861    None\n",
       "16869    None\n",
       "16875    None\n",
       "16877    None\n",
       "16885    None\n",
       "16906    None\n",
       "16915    None\n",
       "16923    None\n",
       "16931    None\n",
       "16942    None\n",
       "16951    None\n",
       "16953    None\n",
       "16969    None\n",
       "16977    None\n",
       "16980    None\n",
       "16982    None\n",
       "16989    None\n",
       "16991    None\n",
       "16994    None\n",
       "Name: gender, Length: 2175, dtype: object"
      ]
     },
     "execution_count": 16,
     "metadata": {},
     "output_type": "execute_result"
    }
   ],
   "source": [
    "profile[profile['age']>115].gender"
   ]
  },
  {
   "cell_type": "markdown",
   "metadata": {},
   "source": [
    "From above cells we can see that ther are 2175 customer profiles (12.8% of total data) that have the outlier age range. We also saw that these rows didn't have gender and income data. These rows do not relay any demographic information we need for data analysis. Hence, I will drop these rows from the dataset."
   ]
  },
  {
   "cell_type": "code",
   "execution_count": 17,
   "metadata": {},
   "outputs": [],
   "source": [
    "profile.drop(profile[profile.age >115].index, inplace = True)"
   ]
  },
  {
   "cell_type": "code",
   "execution_count": 18,
   "metadata": {},
   "outputs": [
    {
     "data": {
      "text/plain": [
       "14825"
      ]
     },
     "execution_count": 18,
     "metadata": {},
     "output_type": "execute_result"
    }
   ],
   "source": [
    "profile.Customer_id.nunique()"
   ]
  },
  {
   "cell_type": "code",
   "execution_count": 19,
   "metadata": {},
   "outputs": [
    {
     "data": {
      "text/plain": [
       "gender\n",
       "F    6129\n",
       "M    8484\n",
       "O     212\n",
       "Name: Customer_id, dtype: int64"
      ]
     },
     "execution_count": 19,
     "metadata": {},
     "output_type": "execute_result"
    }
   ],
   "source": [
    "profile.groupby(['gender']).count()['Customer_id']"
   ]
  },
  {
   "cell_type": "code",
   "execution_count": 20,
   "metadata": {},
   "outputs": [],
   "source": [
    "profile.drop(profile[profile.gender == 'O'].index, inplace = True)"
   ]
  },
  {
   "cell_type": "code",
   "execution_count": 21,
   "metadata": {},
   "outputs": [
    {
     "data": {
      "text/plain": [
       "<matplotlib.axes._subplots.AxesSubplot at 0x7f89b01e4518>"
      ]
     },
     "execution_count": 21,
     "metadata": {},
     "output_type": "execute_result"
    },
    {
     "data": {
      "image/png": "[encoded data removed]",
      "text/plain": [
       "<matplotlib.figure.Figure at 0x7f89b021a630>"
      ]
     },
     "metadata": {},
     "output_type": "display_data"
    }
   ],
   "source": [
    "profile.gender.value_counts().plot.pie(figsize=(10, 10), fontsize = 12, autopct = '%.2f', title = 'Gender Distribution')"
   ]
  },
  {
   "cell_type": "markdown",
   "metadata": {},
   "source": [
    "The above cells show the distribution of data by gender. We see that there are few rows with unknown gender category (less than 2%). Once we drop thsoe rows, we can see that out of the total customer data, 58.06% is male population, and rest 41.94% are females. Now lets explore the income distribution in this group."
   ]
  },
  {
   "cell_type": "code",
   "execution_count": 22,
   "metadata": {},
   "outputs": [
    {
     "data": {
      "text/plain": [
       "<matplotlib.axes._subplots.AxesSubplot at 0x7f89b021ae48>"
      ]
     },
     "execution_count": 22,
     "metadata": {},
     "output_type": "execute_result"
    },
    {
     "data": {
      "image/png": "[encoded data removed]",
      "text/plain": [
       "<matplotlib.figure.Figure at 0x7f89b01d67f0>"
      ]
     },
     "metadata": {
      "needs_background": "light"
     },
     "output_type": "display_data"
    }
   ],
   "source": [
    "profile.income.hist()"
   ]
  },
  {
   "cell_type": "code",
   "execution_count": 23,
   "metadata": {},
   "outputs": [
    {
     "data": {
      "text/plain": [
       "income\n",
       "(20000, 30000]        85\n",
       "(30000, 40000]      2019\n",
       "(40000, 50000]      1878\n",
       "(50000, 60000]      2608\n",
       "(60000, 70000]      2312\n",
       "(70000, 80000]      2194\n",
       "(80000, 90000]      1340\n",
       "(90000, 100000]     1171\n",
       "(100000, 110000]     546\n",
       "(110000, 120000]     460\n",
       "Name: Customer_id, dtype: int64"
      ]
     },
     "execution_count": 23,
     "metadata": {},
     "output_type": "execute_result"
    }
   ],
   "source": [
    "profile.groupby(pd.cut(profile['income'], np.arange(20000, 120000+10000, 10000)))['Customer_id'].count()"
   ]
  },
  {
   "cell_type": "code",
   "execution_count": 24,
   "metadata": {},
   "outputs": [
    {
     "data": {
      "text/plain": [
       "65436.0"
      ]
     },
     "execution_count": 24,
     "metadata": {},
     "output_type": "execute_result"
    }
   ],
   "source": [
    "profile.income.mean().round(0)"
   ]
  },
  {
   "cell_type": "code",
   "execution_count": 25,
   "metadata": {},
   "outputs": [
    {
     "data": {
      "text/html": [
       "<div>\n",
       "<style scoped>\n",
       "    .dataframe tbody tr th:only-of-type {\n",
       "        vertical-align: middle;\n",
       "    }\n",
       "\n",
       "    .dataframe tbody tr th {\n",
       "        vertical-align: top;\n",
       "    }\n",
       "\n",
       "    .dataframe thead th {\n",
       "        text-align: right;\n",
       "    }\n",
       "</style>\n",
       "<table border=\"1\" class=\"dataframe\">\n",
       "  <thead>\n",
       "    <tr style=\"text-align: right;\">\n",
       "      <th></th>\n",
       "      <th>Average Age</th>\n",
       "      <th>Avearge Income</th>\n",
       "    </tr>\n",
       "    <tr>\n",
       "      <th>gender</th>\n",
       "      <th></th>\n",
       "      <th></th>\n",
       "    </tr>\n",
       "  </thead>\n",
       "  <tbody>\n",
       "    <tr>\n",
       "      <th>F</th>\n",
       "      <td>58.0</td>\n",
       "      <td>71306.0</td>\n",
       "    </tr>\n",
       "    <tr>\n",
       "      <th>M</th>\n",
       "      <td>52.0</td>\n",
       "      <td>61195.0</td>\n",
       "    </tr>\n",
       "  </tbody>\n",
       "</table>\n",
       "</div>"
      ],
      "text/plain": [
       "        Average Age  Avearge Income\n",
       "gender                             \n",
       "F              58.0         71306.0\n",
       "M              52.0         61195.0"
      ]
     },
     "execution_count": 25,
     "metadata": {},
     "output_type": "execute_result"
    }
   ],
   "source": [
    "profile.groupby(['gender']).agg({'age':'mean', 'income':'mean'}).round(0).rename(columns = {'age':'Average Age', 'income':'Avearge Income'})"
   ]
  },
  {
   "cell_type": "code",
   "execution_count": 26,
   "metadata": {},
   "outputs": [
    {
     "data": {
      "text/html": [
       "<div>\n",
       "<style scoped>\n",
       "    .dataframe tbody tr th:only-of-type {\n",
       "        vertical-align: middle;\n",
       "    }\n",
       "\n",
       "    .dataframe tbody tr th {\n",
       "        vertical-align: top;\n",
       "    }\n",
       "\n",
       "    .dataframe thead th {\n",
       "        text-align: right;\n",
       "    }\n",
       "</style>\n",
       "<table border=\"1\" class=\"dataframe\">\n",
       "  <thead>\n",
       "    <tr style=\"text-align: right;\">\n",
       "      <th></th>\n",
       "      <th>age</th>\n",
       "      <th>became_member_on</th>\n",
       "      <th>gender</th>\n",
       "      <th>Customer_id</th>\n",
       "      <th>income</th>\n",
       "    </tr>\n",
       "  </thead>\n",
       "  <tbody>\n",
       "    <tr>\n",
       "      <th>1</th>\n",
       "      <td>55</td>\n",
       "      <td>20170715</td>\n",
       "      <td>F</td>\n",
       "      <td>0610b486422d4921ae7d2bf64640c50b</td>\n",
       "      <td>112000.0</td>\n",
       "    </tr>\n",
       "    <tr>\n",
       "      <th>3</th>\n",
       "      <td>75</td>\n",
       "      <td>20170509</td>\n",
       "      <td>F</td>\n",
       "      <td>78afa995795e4d85b5d9ceeca43f5fef</td>\n",
       "      <td>100000.0</td>\n",
       "    </tr>\n",
       "    <tr>\n",
       "      <th>5</th>\n",
       "      <td>68</td>\n",
       "      <td>20180426</td>\n",
       "      <td>M</td>\n",
       "      <td>e2127556f4f64592b11af22de27a7932</td>\n",
       "      <td>70000.0</td>\n",
       "    </tr>\n",
       "    <tr>\n",
       "      <th>8</th>\n",
       "      <td>65</td>\n",
       "      <td>20180209</td>\n",
       "      <td>M</td>\n",
       "      <td>389bc3fa690240e798340f5a15918d5c</td>\n",
       "      <td>53000.0</td>\n",
       "    </tr>\n",
       "    <tr>\n",
       "      <th>12</th>\n",
       "      <td>58</td>\n",
       "      <td>20171111</td>\n",
       "      <td>M</td>\n",
       "      <td>2eeac8d8feae4a8cad5a6af0499a211d</td>\n",
       "      <td>51000.0</td>\n",
       "    </tr>\n",
       "  </tbody>\n",
       "</table>\n",
       "</div>"
      ],
      "text/plain": [
       "    age  became_member_on gender                       Customer_id    income\n",
       "1    55          20170715      F  0610b486422d4921ae7d2bf64640c50b  112000.0\n",
       "3    75          20170509      F  78afa995795e4d85b5d9ceeca43f5fef  100000.0\n",
       "5    68          20180426      M  e2127556f4f64592b11af22de27a7932   70000.0\n",
       "8    65          20180209      M  389bc3fa690240e798340f5a15918d5c   53000.0\n",
       "12   58          20171111      M  2eeac8d8feae4a8cad5a6af0499a211d   51000.0"
      ]
     },
     "execution_count": 26,
     "metadata": {},
     "output_type": "execute_result"
    }
   ],
   "source": [
    "profile.head()"
   ]
  },
  {
   "cell_type": "markdown",
   "metadata": {},
   "source": [
    "The median income for the entire datset is 65,436, and among female poulation it is $71,306 which is slightly higher compared to males  61,195."
   ]
  },
  {
   "cell_type": "markdown",
   "metadata": {},
   "source": [
    "### Transcript Data"
   ]
  },
  {
   "cell_type": "code",
   "execution_count": 27,
   "metadata": {},
   "outputs": [
    {
     "data": {
      "text/html": [
       "<div>\n",
       "<style scoped>\n",
       "    .dataframe tbody tr th:only-of-type {\n",
       "        vertical-align: middle;\n",
       "    }\n",
       "\n",
       "    .dataframe tbody tr th {\n",
       "        vertical-align: top;\n",
       "    }\n",
       "\n",
       "    .dataframe thead th {\n",
       "        text-align: right;\n",
       "    }\n",
       "</style>\n",
       "<table border=\"1\" class=\"dataframe\">\n",
       "  <thead>\n",
       "    <tr style=\"text-align: right;\">\n",
       "      <th></th>\n",
       "      <th>event</th>\n",
       "      <th>person</th>\n",
       "      <th>time</th>\n",
       "      <th>value</th>\n",
       "    </tr>\n",
       "  </thead>\n",
       "  <tbody>\n",
       "    <tr>\n",
       "      <th>0</th>\n",
       "      <td>offer received</td>\n",
       "      <td>78afa995795e4d85b5d9ceeca43f5fef</td>\n",
       "      <td>0</td>\n",
       "      <td>{'offer id': '9b98b8c7a33c4b65b9aebfe6a799e6d9'}</td>\n",
       "    </tr>\n",
       "    <tr>\n",
       "      <th>1</th>\n",
       "      <td>offer received</td>\n",
       "      <td>a03223e636434f42ac4c3df47e8bac43</td>\n",
       "      <td>0</td>\n",
       "      <td>{'offer id': '0b1e1539f2cc45b7b9fa7c272da2e1d7'}</td>\n",
       "    </tr>\n",
       "    <tr>\n",
       "      <th>2</th>\n",
       "      <td>offer received</td>\n",
       "      <td>e2127556f4f64592b11af22de27a7932</td>\n",
       "      <td>0</td>\n",
       "      <td>{'offer id': '2906b810c7d4411798c6938adc9daaa5'}</td>\n",
       "    </tr>\n",
       "    <tr>\n",
       "      <th>3</th>\n",
       "      <td>offer received</td>\n",
       "      <td>8ec6ce2a7e7949b1bf142def7d0e0586</td>\n",
       "      <td>0</td>\n",
       "      <td>{'offer id': 'fafdcd668e3743c1bb461111dcafc2a4'}</td>\n",
       "    </tr>\n",
       "    <tr>\n",
       "      <th>4</th>\n",
       "      <td>offer received</td>\n",
       "      <td>68617ca6246f4fbc85e91a2a49552598</td>\n",
       "      <td>0</td>\n",
       "      <td>{'offer id': '4d5c57ea9a6940dd891ad53e9dbe8da0'}</td>\n",
       "    </tr>\n",
       "  </tbody>\n",
       "</table>\n",
       "</div>"
      ],
      "text/plain": [
       "            event                            person  time  \\\n",
       "0  offer received  78afa995795e4d85b5d9ceeca43f5fef     0   \n",
       "1  offer received  a03223e636434f42ac4c3df47e8bac43     0   \n",
       "2  offer received  e2127556f4f64592b11af22de27a7932     0   \n",
       "3  offer received  8ec6ce2a7e7949b1bf142def7d0e0586     0   \n",
       "4  offer received  68617ca6246f4fbc85e91a2a49552598     0   \n",
       "\n",
       "                                              value  \n",
       "0  {'offer id': '9b98b8c7a33c4b65b9aebfe6a799e6d9'}  \n",
       "1  {'offer id': '0b1e1539f2cc45b7b9fa7c272da2e1d7'}  \n",
       "2  {'offer id': '2906b810c7d4411798c6938adc9daaa5'}  \n",
       "3  {'offer id': 'fafdcd668e3743c1bb461111dcafc2a4'}  \n",
       "4  {'offer id': '4d5c57ea9a6940dd891ad53e9dbe8da0'}  "
      ]
     },
     "execution_count": 27,
     "metadata": {},
     "output_type": "execute_result"
    }
   ],
   "source": [
    "transcript.head()"
   ]
  },
  {
   "cell_type": "code",
   "execution_count": 28,
   "metadata": {},
   "outputs": [
    {
     "data": {
      "text/plain": [
       "event     0\n",
       "person    0\n",
       "time      0\n",
       "value     0\n",
       "dtype: int64"
      ]
     },
     "execution_count": 28,
     "metadata": {},
     "output_type": "execute_result"
    }
   ],
   "source": [
    "transcript.isnull().sum()"
   ]
  },
  {
   "cell_type": "code",
   "execution_count": 29,
   "metadata": {},
   "outputs": [
    {
     "data": {
      "text/plain": [
       "(306534, 4)"
      ]
     },
     "execution_count": 29,
     "metadata": {},
     "output_type": "execute_result"
    }
   ],
   "source": [
    "transcript.shape"
   ]
  },
  {
   "cell_type": "markdown",
   "metadata": {},
   "source": [
    "Transcript data contains information on customer transactions listing out ecah transaction type(receiveed/viewed/transaction/completed). We can also see that offer id related to that particular transaction is listed in the value column. The data needs some preprocessing, like renaming certain columns, converting data in value column into categorical columns. Before proceeding, I want to filter the data to keep only those transactions where customer demographics is available. "
   ]
  },
  {
   "cell_type": "code",
   "execution_count": 30,
   "metadata": {},
   "outputs": [],
   "source": [
    "transcript = transcript.rename(columns={'person':'Customer_id'})"
   ]
  },
  {
   "cell_type": "code",
   "execution_count": 31,
   "metadata": {},
   "outputs": [],
   "source": [
    "select_customers = transcript['Customer_id'].isin(profile['Customer_id'])\n",
    "transcript = transcript[select_customers]"
   ]
  },
  {
   "cell_type": "code",
   "execution_count": 32,
   "metadata": {},
   "outputs": [
    {
     "data": {
      "text/plain": [
       "(268791, 4)"
      ]
     },
     "execution_count": 32,
     "metadata": {},
     "output_type": "execute_result"
    }
   ],
   "source": [
    "transcript.shape"
   ]
  },
  {
   "cell_type": "code",
   "execution_count": 33,
   "metadata": {},
   "outputs": [],
   "source": [
    "transcript=pd.concat([transcript, transcript['value'].apply(pd.Series)], axis=1)"
   ]
  },
  {
   "cell_type": "code",
   "execution_count": 34,
   "metadata": {},
   "outputs": [],
   "source": [
    "transcript.drop(['value'], axis =1, inplace = True)"
   ]
  },
  {
   "cell_type": "code",
   "execution_count": 35,
   "metadata": {},
   "outputs": [
    {
     "data": {
      "text/html": [
       "<div>\n",
       "<style scoped>\n",
       "    .dataframe tbody tr th:only-of-type {\n",
       "        vertical-align: middle;\n",
       "    }\n",
       "\n",
       "    .dataframe tbody tr th {\n",
       "        vertical-align: top;\n",
       "    }\n",
       "\n",
       "    .dataframe thead th {\n",
       "        text-align: right;\n",
       "    }\n",
       "</style>\n",
       "<table border=\"1\" class=\"dataframe\">\n",
       "  <thead>\n",
       "    <tr style=\"text-align: right;\">\n",
       "      <th></th>\n",
       "      <th>event</th>\n",
       "      <th>Customer_id</th>\n",
       "      <th>time</th>\n",
       "      <th>offer id</th>\n",
       "      <th>amount</th>\n",
       "      <th>offer_id</th>\n",
       "      <th>reward</th>\n",
       "    </tr>\n",
       "  </thead>\n",
       "  <tbody>\n",
       "    <tr>\n",
       "      <th>0</th>\n",
       "      <td>offer received</td>\n",
       "      <td>78afa995795e4d85b5d9ceeca43f5fef</td>\n",
       "      <td>0</td>\n",
       "      <td>9b98b8c7a33c4b65b9aebfe6a799e6d9</td>\n",
       "      <td>NaN</td>\n",
       "      <td>NaN</td>\n",
       "      <td>NaN</td>\n",
       "    </tr>\n",
       "    <tr>\n",
       "      <th>2</th>\n",
       "      <td>offer received</td>\n",
       "      <td>e2127556f4f64592b11af22de27a7932</td>\n",
       "      <td>0</td>\n",
       "      <td>2906b810c7d4411798c6938adc9daaa5</td>\n",
       "      <td>NaN</td>\n",
       "      <td>NaN</td>\n",
       "      <td>NaN</td>\n",
       "    </tr>\n",
       "    <tr>\n",
       "      <th>5</th>\n",
       "      <td>offer received</td>\n",
       "      <td>389bc3fa690240e798340f5a15918d5c</td>\n",
       "      <td>0</td>\n",
       "      <td>f19421c1d4aa40978ebb69ca19b0e20d</td>\n",
       "      <td>NaN</td>\n",
       "      <td>NaN</td>\n",
       "      <td>NaN</td>\n",
       "    </tr>\n",
       "    <tr>\n",
       "      <th>7</th>\n",
       "      <td>offer received</td>\n",
       "      <td>2eeac8d8feae4a8cad5a6af0499a211d</td>\n",
       "      <td>0</td>\n",
       "      <td>3f207df678b143eea3cee63160fa8bed</td>\n",
       "      <td>NaN</td>\n",
       "      <td>NaN</td>\n",
       "      <td>NaN</td>\n",
       "    </tr>\n",
       "    <tr>\n",
       "      <th>8</th>\n",
       "      <td>offer received</td>\n",
       "      <td>aa4862eba776480b8bb9c68455b8c2e1</td>\n",
       "      <td>0</td>\n",
       "      <td>0b1e1539f2cc45b7b9fa7c272da2e1d7</td>\n",
       "      <td>NaN</td>\n",
       "      <td>NaN</td>\n",
       "      <td>NaN</td>\n",
       "    </tr>\n",
       "  </tbody>\n",
       "</table>\n",
       "</div>"
      ],
      "text/plain": [
       "            event                       Customer_id  time  \\\n",
       "0  offer received  78afa995795e4d85b5d9ceeca43f5fef     0   \n",
       "2  offer received  e2127556f4f64592b11af22de27a7932     0   \n",
       "5  offer received  389bc3fa690240e798340f5a15918d5c     0   \n",
       "7  offer received  2eeac8d8feae4a8cad5a6af0499a211d     0   \n",
       "8  offer received  aa4862eba776480b8bb9c68455b8c2e1     0   \n",
       "\n",
       "                           offer id  amount offer_id  reward  \n",
       "0  9b98b8c7a33c4b65b9aebfe6a799e6d9     NaN      NaN     NaN  \n",
       "2  2906b810c7d4411798c6938adc9daaa5     NaN      NaN     NaN  \n",
       "5  f19421c1d4aa40978ebb69ca19b0e20d     NaN      NaN     NaN  \n",
       "7  3f207df678b143eea3cee63160fa8bed     NaN      NaN     NaN  \n",
       "8  0b1e1539f2cc45b7b9fa7c272da2e1d7     NaN      NaN     NaN  "
      ]
     },
     "execution_count": 35,
     "metadata": {},
     "output_type": "execute_result"
    }
   ],
   "source": [
    "transcript.head()"
   ]
  },
  {
   "cell_type": "code",
   "execution_count": 36,
   "metadata": {},
   "outputs": [],
   "source": [
    "#create new column to ensure only one offer_id column\n",
    "transcript['offer_id_new']=np.where(transcript['offer id'].isnull() & transcript['offer_id'].notnull(),transcript['offer_id'],transcript['offer id'])\n",
    "\n",
    "#drop unnecessary offer_id columns\n",
    "transcript.drop(['offer id','offer_id'],axis=1,inplace=True)\n",
    "\n",
    "#rename offer_id column  \n",
    "transcript.rename(columns={'offer_id_new':'offer_id'},inplace=True)"
   ]
  },
  {
   "cell_type": "markdown",
   "metadata": {},
   "source": [
    "Now I have separated the data in the value column, I want to see if we have offer id information for all the event types."
   ]
  },
  {
   "cell_type": "code",
   "execution_count": 37,
   "metadata": {},
   "outputs": [
    {
     "data": {
      "text/html": [
       "<div>\n",
       "<style scoped>\n",
       "    .dataframe tbody tr th:only-of-type {\n",
       "        vertical-align: middle;\n",
       "    }\n",
       "\n",
       "    .dataframe tbody tr th {\n",
       "        vertical-align: top;\n",
       "    }\n",
       "\n",
       "    .dataframe thead th {\n",
       "        text-align: right;\n",
       "    }\n",
       "</style>\n",
       "<table border=\"1\" class=\"dataframe\">\n",
       "  <thead>\n",
       "    <tr style=\"text-align: right;\">\n",
       "      <th></th>\n",
       "      <th>event</th>\n",
       "      <th>Customer_id</th>\n",
       "      <th>time</th>\n",
       "      <th>amount</th>\n",
       "      <th>reward</th>\n",
       "      <th>offer_id</th>\n",
       "    </tr>\n",
       "  </thead>\n",
       "  <tbody>\n",
       "    <tr>\n",
       "      <th>0</th>\n",
       "      <td>offer received</td>\n",
       "      <td>78afa995795e4d85b5d9ceeca43f5fef</td>\n",
       "      <td>0</td>\n",
       "      <td>NaN</td>\n",
       "      <td>NaN</td>\n",
       "      <td>9b98b8c7a33c4b65b9aebfe6a799e6d9</td>\n",
       "    </tr>\n",
       "    <tr>\n",
       "      <th>2</th>\n",
       "      <td>offer received</td>\n",
       "      <td>e2127556f4f64592b11af22de27a7932</td>\n",
       "      <td>0</td>\n",
       "      <td>NaN</td>\n",
       "      <td>NaN</td>\n",
       "      <td>2906b810c7d4411798c6938adc9daaa5</td>\n",
       "    </tr>\n",
       "    <tr>\n",
       "      <th>5</th>\n",
       "      <td>offer received</td>\n",
       "      <td>389bc3fa690240e798340f5a15918d5c</td>\n",
       "      <td>0</td>\n",
       "      <td>NaN</td>\n",
       "      <td>NaN</td>\n",
       "      <td>f19421c1d4aa40978ebb69ca19b0e20d</td>\n",
       "    </tr>\n",
       "    <tr>\n",
       "      <th>7</th>\n",
       "      <td>offer received</td>\n",
       "      <td>2eeac8d8feae4a8cad5a6af0499a211d</td>\n",
       "      <td>0</td>\n",
       "      <td>NaN</td>\n",
       "      <td>NaN</td>\n",
       "      <td>3f207df678b143eea3cee63160fa8bed</td>\n",
       "    </tr>\n",
       "    <tr>\n",
       "      <th>8</th>\n",
       "      <td>offer received</td>\n",
       "      <td>aa4862eba776480b8bb9c68455b8c2e1</td>\n",
       "      <td>0</td>\n",
       "      <td>NaN</td>\n",
       "      <td>NaN</td>\n",
       "      <td>0b1e1539f2cc45b7b9fa7c272da2e1d7</td>\n",
       "    </tr>\n",
       "  </tbody>\n",
       "</table>\n",
       "</div>"
      ],
      "text/plain": [
       "            event                       Customer_id  time  amount  reward  \\\n",
       "0  offer received  78afa995795e4d85b5d9ceeca43f5fef     0     NaN     NaN   \n",
       "2  offer received  e2127556f4f64592b11af22de27a7932     0     NaN     NaN   \n",
       "5  offer received  389bc3fa690240e798340f5a15918d5c     0     NaN     NaN   \n",
       "7  offer received  2eeac8d8feae4a8cad5a6af0499a211d     0     NaN     NaN   \n",
       "8  offer received  aa4862eba776480b8bb9c68455b8c2e1     0     NaN     NaN   \n",
       "\n",
       "                           offer_id  \n",
       "0  9b98b8c7a33c4b65b9aebfe6a799e6d9  \n",
       "2  2906b810c7d4411798c6938adc9daaa5  \n",
       "5  f19421c1d4aa40978ebb69ca19b0e20d  \n",
       "7  3f207df678b143eea3cee63160fa8bed  \n",
       "8  0b1e1539f2cc45b7b9fa7c272da2e1d7  "
      ]
     },
     "execution_count": 37,
     "metadata": {},
     "output_type": "execute_result"
    }
   ],
   "source": [
    "transcript[transcript['event']=='offer received'].head()"
   ]
  },
  {
   "cell_type": "code",
   "execution_count": 38,
   "metadata": {},
   "outputs": [
    {
     "data": {
      "text/html": [
       "<div>\n",
       "<style scoped>\n",
       "    .dataframe tbody tr th:only-of-type {\n",
       "        vertical-align: middle;\n",
       "    }\n",
       "\n",
       "    .dataframe tbody tr th {\n",
       "        vertical-align: top;\n",
       "    }\n",
       "\n",
       "    .dataframe thead th {\n",
       "        text-align: right;\n",
       "    }\n",
       "</style>\n",
       "<table border=\"1\" class=\"dataframe\">\n",
       "  <thead>\n",
       "    <tr style=\"text-align: right;\">\n",
       "      <th></th>\n",
       "      <th>event</th>\n",
       "      <th>Customer_id</th>\n",
       "      <th>time</th>\n",
       "      <th>amount</th>\n",
       "      <th>reward</th>\n",
       "      <th>offer_id</th>\n",
       "    </tr>\n",
       "  </thead>\n",
       "  <tbody>\n",
       "    <tr>\n",
       "      <th>12650</th>\n",
       "      <td>offer viewed</td>\n",
       "      <td>389bc3fa690240e798340f5a15918d5c</td>\n",
       "      <td>0</td>\n",
       "      <td>NaN</td>\n",
       "      <td>NaN</td>\n",
       "      <td>f19421c1d4aa40978ebb69ca19b0e20d</td>\n",
       "    </tr>\n",
       "    <tr>\n",
       "      <th>12652</th>\n",
       "      <td>offer viewed</td>\n",
       "      <td>102e9454054946fda62242d2e176fdce</td>\n",
       "      <td>0</td>\n",
       "      <td>NaN</td>\n",
       "      <td>NaN</td>\n",
       "      <td>4d5c57ea9a6940dd891ad53e9dbe8da0</td>\n",
       "    </tr>\n",
       "    <tr>\n",
       "      <th>12653</th>\n",
       "      <td>offer viewed</td>\n",
       "      <td>02c083884c7d45b39cc68e1314fec56c</td>\n",
       "      <td>0</td>\n",
       "      <td>NaN</td>\n",
       "      <td>NaN</td>\n",
       "      <td>ae264e3637204a6fb9bb56bc8210ddfd</td>\n",
       "    </tr>\n",
       "    <tr>\n",
       "      <th>12655</th>\n",
       "      <td>offer viewed</td>\n",
       "      <td>be8a5d1981a2458d90b255ddc7e0d174</td>\n",
       "      <td>0</td>\n",
       "      <td>NaN</td>\n",
       "      <td>NaN</td>\n",
       "      <td>5a8bc65990b245e5a138643cd4eb9837</td>\n",
       "    </tr>\n",
       "    <tr>\n",
       "      <th>12656</th>\n",
       "      <td>offer viewed</td>\n",
       "      <td>9fa9ae8f57894cc9a3b8a9bbe0fc1b2f</td>\n",
       "      <td>0</td>\n",
       "      <td>NaN</td>\n",
       "      <td>NaN</td>\n",
       "      <td>2906b810c7d4411798c6938adc9daaa5</td>\n",
       "    </tr>\n",
       "  </tbody>\n",
       "</table>\n",
       "</div>"
      ],
      "text/plain": [
       "              event                       Customer_id  time  amount  reward  \\\n",
       "12650  offer viewed  389bc3fa690240e798340f5a15918d5c     0     NaN     NaN   \n",
       "12652  offer viewed  102e9454054946fda62242d2e176fdce     0     NaN     NaN   \n",
       "12653  offer viewed  02c083884c7d45b39cc68e1314fec56c     0     NaN     NaN   \n",
       "12655  offer viewed  be8a5d1981a2458d90b255ddc7e0d174     0     NaN     NaN   \n",
       "12656  offer viewed  9fa9ae8f57894cc9a3b8a9bbe0fc1b2f     0     NaN     NaN   \n",
       "\n",
       "                               offer_id  \n",
       "12650  f19421c1d4aa40978ebb69ca19b0e20d  \n",
       "12652  4d5c57ea9a6940dd891ad53e9dbe8da0  \n",
       "12653  ae264e3637204a6fb9bb56bc8210ddfd  \n",
       "12655  5a8bc65990b245e5a138643cd4eb9837  \n",
       "12656  2906b810c7d4411798c6938adc9daaa5  "
      ]
     },
     "execution_count": 38,
     "metadata": {},
     "output_type": "execute_result"
    }
   ],
   "source": [
    "transcript[transcript['event']=='offer viewed'].head()"
   ]
  },
  {
   "cell_type": "code",
   "execution_count": 39,
   "metadata": {},
   "outputs": [
    {
     "data": {
      "text/html": [
       "<div>\n",
       "<style scoped>\n",
       "    .dataframe tbody tr th:only-of-type {\n",
       "        vertical-align: middle;\n",
       "    }\n",
       "\n",
       "    .dataframe tbody tr th {\n",
       "        vertical-align: top;\n",
       "    }\n",
       "\n",
       "    .dataframe thead th {\n",
       "        text-align: right;\n",
       "    }\n",
       "</style>\n",
       "<table border=\"1\" class=\"dataframe\">\n",
       "  <thead>\n",
       "    <tr style=\"text-align: right;\">\n",
       "      <th></th>\n",
       "      <th>event</th>\n",
       "      <th>Customer_id</th>\n",
       "      <th>time</th>\n",
       "      <th>amount</th>\n",
       "      <th>reward</th>\n",
       "      <th>offer_id</th>\n",
       "    </tr>\n",
       "  </thead>\n",
       "  <tbody>\n",
       "    <tr>\n",
       "      <th>12654</th>\n",
       "      <td>transaction</td>\n",
       "      <td>02c083884c7d45b39cc68e1314fec56c</td>\n",
       "      <td>0</td>\n",
       "      <td>0.83</td>\n",
       "      <td>NaN</td>\n",
       "      <td>NaN</td>\n",
       "    </tr>\n",
       "    <tr>\n",
       "      <th>12657</th>\n",
       "      <td>transaction</td>\n",
       "      <td>9fa9ae8f57894cc9a3b8a9bbe0fc1b2f</td>\n",
       "      <td>0</td>\n",
       "      <td>34.56</td>\n",
       "      <td>NaN</td>\n",
       "      <td>NaN</td>\n",
       "    </tr>\n",
       "    <tr>\n",
       "      <th>12659</th>\n",
       "      <td>transaction</td>\n",
       "      <td>54890f68699049c2a04d415abc25e717</td>\n",
       "      <td>0</td>\n",
       "      <td>13.23</td>\n",
       "      <td>NaN</td>\n",
       "      <td>NaN</td>\n",
       "    </tr>\n",
       "    <tr>\n",
       "      <th>12670</th>\n",
       "      <td>transaction</td>\n",
       "      <td>b2f1cd155b864803ad8334cdf13c4bd2</td>\n",
       "      <td>0</td>\n",
       "      <td>19.51</td>\n",
       "      <td>NaN</td>\n",
       "      <td>NaN</td>\n",
       "    </tr>\n",
       "    <tr>\n",
       "      <th>12671</th>\n",
       "      <td>transaction</td>\n",
       "      <td>fe97aa22dd3e48c8b143116a8403dd52</td>\n",
       "      <td>0</td>\n",
       "      <td>18.97</td>\n",
       "      <td>NaN</td>\n",
       "      <td>NaN</td>\n",
       "    </tr>\n",
       "  </tbody>\n",
       "</table>\n",
       "</div>"
      ],
      "text/plain": [
       "             event                       Customer_id  time  amount  reward  \\\n",
       "12654  transaction  02c083884c7d45b39cc68e1314fec56c     0    0.83     NaN   \n",
       "12657  transaction  9fa9ae8f57894cc9a3b8a9bbe0fc1b2f     0   34.56     NaN   \n",
       "12659  transaction  54890f68699049c2a04d415abc25e717     0   13.23     NaN   \n",
       "12670  transaction  b2f1cd155b864803ad8334cdf13c4bd2     0   19.51     NaN   \n",
       "12671  transaction  fe97aa22dd3e48c8b143116a8403dd52     0   18.97     NaN   \n",
       "\n",
       "      offer_id  \n",
       "12654      NaN  \n",
       "12657      NaN  \n",
       "12659      NaN  \n",
       "12670      NaN  \n",
       "12671      NaN  "
      ]
     },
     "execution_count": 39,
     "metadata": {},
     "output_type": "execute_result"
    }
   ],
   "source": [
    "transcript[transcript['event']=='transaction'].head()"
   ]
  },
  {
   "cell_type": "code",
   "execution_count": 40,
   "metadata": {},
   "outputs": [
    {
     "data": {
      "text/html": [
       "<div>\n",
       "<style scoped>\n",
       "    .dataframe tbody tr th:only-of-type {\n",
       "        vertical-align: middle;\n",
       "    }\n",
       "\n",
       "    .dataframe tbody tr th {\n",
       "        vertical-align: top;\n",
       "    }\n",
       "\n",
       "    .dataframe thead th {\n",
       "        text-align: right;\n",
       "    }\n",
       "</style>\n",
       "<table border=\"1\" class=\"dataframe\">\n",
       "  <thead>\n",
       "    <tr style=\"text-align: right;\">\n",
       "      <th></th>\n",
       "      <th>event</th>\n",
       "      <th>Customer_id</th>\n",
       "      <th>time</th>\n",
       "      <th>amount</th>\n",
       "      <th>reward</th>\n",
       "      <th>offer_id</th>\n",
       "    </tr>\n",
       "  </thead>\n",
       "  <tbody>\n",
       "    <tr>\n",
       "      <th>12658</th>\n",
       "      <td>offer completed</td>\n",
       "      <td>9fa9ae8f57894cc9a3b8a9bbe0fc1b2f</td>\n",
       "      <td>0</td>\n",
       "      <td>NaN</td>\n",
       "      <td>2.0</td>\n",
       "      <td>2906b810c7d4411798c6938adc9daaa5</td>\n",
       "    </tr>\n",
       "    <tr>\n",
       "      <th>12672</th>\n",
       "      <td>offer completed</td>\n",
       "      <td>fe97aa22dd3e48c8b143116a8403dd52</td>\n",
       "      <td>0</td>\n",
       "      <td>NaN</td>\n",
       "      <td>2.0</td>\n",
       "      <td>fafdcd668e3743c1bb461111dcafc2a4</td>\n",
       "    </tr>\n",
       "    <tr>\n",
       "      <th>12679</th>\n",
       "      <td>offer completed</td>\n",
       "      <td>629fc02d56414d91bca360decdfa9288</td>\n",
       "      <td>0</td>\n",
       "      <td>NaN</td>\n",
       "      <td>5.0</td>\n",
       "      <td>9b98b8c7a33c4b65b9aebfe6a799e6d9</td>\n",
       "    </tr>\n",
       "    <tr>\n",
       "      <th>12692</th>\n",
       "      <td>offer completed</td>\n",
       "      <td>676506bad68e4161b9bbaffeb039626b</td>\n",
       "      <td>0</td>\n",
       "      <td>NaN</td>\n",
       "      <td>10.0</td>\n",
       "      <td>ae264e3637204a6fb9bb56bc8210ddfd</td>\n",
       "    </tr>\n",
       "    <tr>\n",
       "      <th>12697</th>\n",
       "      <td>offer completed</td>\n",
       "      <td>8f7dd3b2afe14c078eb4f6e6fe4ba97d</td>\n",
       "      <td>0</td>\n",
       "      <td>NaN</td>\n",
       "      <td>10.0</td>\n",
       "      <td>4d5c57ea9a6940dd891ad53e9dbe8da0</td>\n",
       "    </tr>\n",
       "  </tbody>\n",
       "</table>\n",
       "</div>"
      ],
      "text/plain": [
       "                 event                       Customer_id  time  amount  \\\n",
       "12658  offer completed  9fa9ae8f57894cc9a3b8a9bbe0fc1b2f     0     NaN   \n",
       "12672  offer completed  fe97aa22dd3e48c8b143116a8403dd52     0     NaN   \n",
       "12679  offer completed  629fc02d56414d91bca360decdfa9288     0     NaN   \n",
       "12692  offer completed  676506bad68e4161b9bbaffeb039626b     0     NaN   \n",
       "12697  offer completed  8f7dd3b2afe14c078eb4f6e6fe4ba97d     0     NaN   \n",
       "\n",
       "       reward                          offer_id  \n",
       "12658     2.0  2906b810c7d4411798c6938adc9daaa5  \n",
       "12672     2.0  fafdcd668e3743c1bb461111dcafc2a4  \n",
       "12679     5.0  9b98b8c7a33c4b65b9aebfe6a799e6d9  \n",
       "12692    10.0  ae264e3637204a6fb9bb56bc8210ddfd  \n",
       "12697    10.0  4d5c57ea9a6940dd891ad53e9dbe8da0  "
      ]
     },
     "execution_count": 40,
     "metadata": {},
     "output_type": "execute_result"
    }
   ],
   "source": [
    "transcript[transcript['event']=='offer completed'].head()"
   ]
  },
  {
   "cell_type": "markdown",
   "metadata": {},
   "source": [
    "We can see from above cells, that except for rows that have transaction events, rest of the events have offer ids. We need to get offer ids for transaction rows as well to effectively use this data for analysis.\n",
    "\n",
    "If an offer has been viewed and then a transaction ahs occurred, we can use the offer id from offer viewed row for that customer and then forwrad fill those ids using ffill function for transaction rows. "
   ]
  },
  {
   "cell_type": "code",
   "execution_count": 41,
   "metadata": {},
   "outputs": [],
   "source": [
    "#filter dataset for transactions that occur after an offer is viewed, forward fill offer ids by person\n",
    "offers_view_transacted=transcript[['time','offer_id','Customer_id','event']][(transcript['event']=='transaction') | (transcript['event']=='offer viewed')].groupby(['Customer_id','offer_id']).ffill()\n",
    "offers_view_transacted['offer_id']=offers_view_transacted['offer_id'].ffill()"
   ]
  },
  {
   "cell_type": "code",
   "execution_count": 42,
   "metadata": {},
   "outputs": [
    {
     "data": {
      "text/html": [
       "<div>\n",
       "<style scoped>\n",
       "    .dataframe tbody tr th:only-of-type {\n",
       "        vertical-align: middle;\n",
       "    }\n",
       "\n",
       "    .dataframe tbody tr th {\n",
       "        vertical-align: top;\n",
       "    }\n",
       "\n",
       "    .dataframe thead th {\n",
       "        text-align: right;\n",
       "    }\n",
       "</style>\n",
       "<table border=\"1\" class=\"dataframe\">\n",
       "  <thead>\n",
       "    <tr style=\"text-align: right;\">\n",
       "      <th></th>\n",
       "      <th>Customer_id</th>\n",
       "      <th>offer_id</th>\n",
       "      <th>time</th>\n",
       "      <th>event</th>\n",
       "    </tr>\n",
       "  </thead>\n",
       "  <tbody>\n",
       "    <tr>\n",
       "      <th>12650</th>\n",
       "      <td>389bc3fa690240e798340f5a15918d5c</td>\n",
       "      <td>f19421c1d4aa40978ebb69ca19b0e20d</td>\n",
       "      <td>0</td>\n",
       "      <td>offer viewed</td>\n",
       "    </tr>\n",
       "    <tr>\n",
       "      <th>12652</th>\n",
       "      <td>102e9454054946fda62242d2e176fdce</td>\n",
       "      <td>4d5c57ea9a6940dd891ad53e9dbe8da0</td>\n",
       "      <td>0</td>\n",
       "      <td>offer viewed</td>\n",
       "    </tr>\n",
       "    <tr>\n",
       "      <th>12653</th>\n",
       "      <td>02c083884c7d45b39cc68e1314fec56c</td>\n",
       "      <td>ae264e3637204a6fb9bb56bc8210ddfd</td>\n",
       "      <td>0</td>\n",
       "      <td>offer viewed</td>\n",
       "    </tr>\n",
       "    <tr>\n",
       "      <th>12654</th>\n",
       "      <td>02c083884c7d45b39cc68e1314fec56c</td>\n",
       "      <td>ae264e3637204a6fb9bb56bc8210ddfd</td>\n",
       "      <td>0</td>\n",
       "      <td>transaction</td>\n",
       "    </tr>\n",
       "    <tr>\n",
       "      <th>12655</th>\n",
       "      <td>be8a5d1981a2458d90b255ddc7e0d174</td>\n",
       "      <td>5a8bc65990b245e5a138643cd4eb9837</td>\n",
       "      <td>0</td>\n",
       "      <td>offer viewed</td>\n",
       "    </tr>\n",
       "  </tbody>\n",
       "</table>\n",
       "</div>"
      ],
      "text/plain": [
       "                            Customer_id                          offer_id  \\\n",
       "12650  389bc3fa690240e798340f5a15918d5c  f19421c1d4aa40978ebb69ca19b0e20d   \n",
       "12652  102e9454054946fda62242d2e176fdce  4d5c57ea9a6940dd891ad53e9dbe8da0   \n",
       "12653  02c083884c7d45b39cc68e1314fec56c  ae264e3637204a6fb9bb56bc8210ddfd   \n",
       "12654  02c083884c7d45b39cc68e1314fec56c  ae264e3637204a6fb9bb56bc8210ddfd   \n",
       "12655  be8a5d1981a2458d90b255ddc7e0d174  5a8bc65990b245e5a138643cd4eb9837   \n",
       "\n",
       "       time         event  \n",
       "12650     0  offer viewed  \n",
       "12652     0  offer viewed  \n",
       "12653     0  offer viewed  \n",
       "12654     0   transaction  \n",
       "12655     0  offer viewed  "
      ]
     },
     "execution_count": 42,
     "metadata": {},
     "output_type": "execute_result"
    }
   ],
   "source": [
    "offers_view_transacted.head()"
   ]
  },
  {
   "cell_type": "code",
   "execution_count": 43,
   "metadata": {},
   "outputs": [],
   "source": [
    "transcript=transcript.merge(offers_view_transacted,how='left',on=['Customer_id','time','event'])"
   ]
  },
  {
   "cell_type": "code",
   "execution_count": 44,
   "metadata": {},
   "outputs": [],
   "source": [
    "#clean up dataset to unify multiple offer_id columns into one column\n",
    "transcript['offer_id']=np.where(transcript['offer_id_x'].isnull(),transcript['offer_id_y'],transcript['offer_id_x']).astype(str)\n",
    "\n",
    "transcript.drop(columns=['offer_id_x','offer_id_y'],inplace=True)"
   ]
  },
  {
   "cell_type": "code",
   "execution_count": 45,
   "metadata": {},
   "outputs": [
    {
     "data": {
      "text/html": [
       "<div>\n",
       "<style scoped>\n",
       "    .dataframe tbody tr th:only-of-type {\n",
       "        vertical-align: middle;\n",
       "    }\n",
       "\n",
       "    .dataframe tbody tr th {\n",
       "        vertical-align: top;\n",
       "    }\n",
       "\n",
       "    .dataframe thead th {\n",
       "        text-align: right;\n",
       "    }\n",
       "</style>\n",
       "<table border=\"1\" class=\"dataframe\">\n",
       "  <thead>\n",
       "    <tr style=\"text-align: right;\">\n",
       "      <th></th>\n",
       "      <th>event</th>\n",
       "      <th>Customer_id</th>\n",
       "      <th>time</th>\n",
       "      <th>amount</th>\n",
       "      <th>reward</th>\n",
       "      <th>offer_id</th>\n",
       "    </tr>\n",
       "  </thead>\n",
       "  <tbody>\n",
       "    <tr>\n",
       "      <th>10865</th>\n",
       "      <td>transaction</td>\n",
       "      <td>02c083884c7d45b39cc68e1314fec56c</td>\n",
       "      <td>0</td>\n",
       "      <td>0.83</td>\n",
       "      <td>NaN</td>\n",
       "      <td>ae264e3637204a6fb9bb56bc8210ddfd</td>\n",
       "    </tr>\n",
       "    <tr>\n",
       "      <th>10868</th>\n",
       "      <td>transaction</td>\n",
       "      <td>9fa9ae8f57894cc9a3b8a9bbe0fc1b2f</td>\n",
       "      <td>0</td>\n",
       "      <td>34.56</td>\n",
       "      <td>NaN</td>\n",
       "      <td>2906b810c7d4411798c6938adc9daaa5</td>\n",
       "    </tr>\n",
       "    <tr>\n",
       "      <th>10870</th>\n",
       "      <td>transaction</td>\n",
       "      <td>54890f68699049c2a04d415abc25e717</td>\n",
       "      <td>0</td>\n",
       "      <td>13.23</td>\n",
       "      <td>NaN</td>\n",
       "      <td>2906b810c7d4411798c6938adc9daaa5</td>\n",
       "    </tr>\n",
       "    <tr>\n",
       "      <th>10878</th>\n",
       "      <td>transaction</td>\n",
       "      <td>b2f1cd155b864803ad8334cdf13c4bd2</td>\n",
       "      <td>0</td>\n",
       "      <td>19.51</td>\n",
       "      <td>NaN</td>\n",
       "      <td>ae264e3637204a6fb9bb56bc8210ddfd</td>\n",
       "    </tr>\n",
       "    <tr>\n",
       "      <th>10879</th>\n",
       "      <td>transaction</td>\n",
       "      <td>fe97aa22dd3e48c8b143116a8403dd52</td>\n",
       "      <td>0</td>\n",
       "      <td>18.97</td>\n",
       "      <td>NaN</td>\n",
       "      <td>ae264e3637204a6fb9bb56bc8210ddfd</td>\n",
       "    </tr>\n",
       "  </tbody>\n",
       "</table>\n",
       "</div>"
      ],
      "text/plain": [
       "             event                       Customer_id  time  amount  reward  \\\n",
       "10865  transaction  02c083884c7d45b39cc68e1314fec56c     0    0.83     NaN   \n",
       "10868  transaction  9fa9ae8f57894cc9a3b8a9bbe0fc1b2f     0   34.56     NaN   \n",
       "10870  transaction  54890f68699049c2a04d415abc25e717     0   13.23     NaN   \n",
       "10878  transaction  b2f1cd155b864803ad8334cdf13c4bd2     0   19.51     NaN   \n",
       "10879  transaction  fe97aa22dd3e48c8b143116a8403dd52     0   18.97     NaN   \n",
       "\n",
       "                               offer_id  \n",
       "10865  ae264e3637204a6fb9bb56bc8210ddfd  \n",
       "10868  2906b810c7d4411798c6938adc9daaa5  \n",
       "10870  2906b810c7d4411798c6938adc9daaa5  \n",
       "10878  ae264e3637204a6fb9bb56bc8210ddfd  \n",
       "10879  ae264e3637204a6fb9bb56bc8210ddfd  "
      ]
     },
     "execution_count": 45,
     "metadata": {},
     "output_type": "execute_result"
    }
   ],
   "source": [
    "transcript[transcript['event']=='transaction'].head()"
   ]
  },
  {
   "cell_type": "code",
   "execution_count": 46,
   "metadata": {},
   "outputs": [
    {
     "data": {
      "text/plain": [
       "(268791, 6)"
      ]
     },
     "execution_count": 46,
     "metadata": {},
     "output_type": "execute_result"
    }
   ],
   "source": [
    "transcript.shape"
   ]
  },
  {
   "cell_type": "markdown",
   "metadata": {},
   "source": [
    "Now we have filled transcation records with offer ids, the next step is to separate event column into categorical columns, replace any misisng values. Also the time column is in hours, to obtain validity period, we need to compare this column with duration which is in days. To accurately compare them ,we need both the columns in the same format. Therefore, we will convert the time column into days from hours."
   ]
  },
  {
   "cell_type": "code",
   "execution_count": 47,
   "metadata": {},
   "outputs": [
    {
     "data": {
      "text/plain": [
       "array(['offer received', 'offer viewed', 'transaction', 'offer completed'], dtype=object)"
      ]
     },
     "execution_count": 47,
     "metadata": {},
     "output_type": "execute_result"
    }
   ],
   "source": [
    "transcript['event'].unique()"
   ]
  },
  {
   "cell_type": "code",
   "execution_count": 48,
   "metadata": {},
   "outputs": [],
   "source": [
    "transcript=transcript.join(transcript['event'].str.get_dummies())"
   ]
  },
  {
   "cell_type": "code",
   "execution_count": 49,
   "metadata": {},
   "outputs": [],
   "source": [
    "transcript.drop(['event'], axis=1, inplace = True)"
   ]
  },
  {
   "cell_type": "code",
   "execution_count": 50,
   "metadata": {},
   "outputs": [],
   "source": [
    "transcript.fillna(0,inplace=True)"
   ]
  },
  {
   "cell_type": "code",
   "execution_count": 51,
   "metadata": {},
   "outputs": [],
   "source": [
    "transcript['time'] = transcript['time']/24"
   ]
  },
  {
   "cell_type": "code",
   "execution_count": 52,
   "metadata": {},
   "outputs": [
    {
     "data": {
      "text/html": [
       "<div>\n",
       "<style scoped>\n",
       "    .dataframe tbody tr th:only-of-type {\n",
       "        vertical-align: middle;\n",
       "    }\n",
       "\n",
       "    .dataframe tbody tr th {\n",
       "        vertical-align: top;\n",
       "    }\n",
       "\n",
       "    .dataframe thead th {\n",
       "        text-align: right;\n",
       "    }\n",
       "</style>\n",
       "<table border=\"1\" class=\"dataframe\">\n",
       "  <thead>\n",
       "    <tr style=\"text-align: right;\">\n",
       "      <th></th>\n",
       "      <th>Customer_id</th>\n",
       "      <th>time</th>\n",
       "      <th>amount</th>\n",
       "      <th>reward</th>\n",
       "      <th>offer_id</th>\n",
       "      <th>offer completed</th>\n",
       "      <th>offer received</th>\n",
       "      <th>offer viewed</th>\n",
       "      <th>transaction</th>\n",
       "    </tr>\n",
       "  </thead>\n",
       "  <tbody>\n",
       "    <tr>\n",
       "      <th>0</th>\n",
       "      <td>78afa995795e4d85b5d9ceeca43f5fef</td>\n",
       "      <td>0.0</td>\n",
       "      <td>0.0</td>\n",
       "      <td>0.0</td>\n",
       "      <td>9b98b8c7a33c4b65b9aebfe6a799e6d9</td>\n",
       "      <td>0</td>\n",
       "      <td>1</td>\n",
       "      <td>0</td>\n",
       "      <td>0</td>\n",
       "    </tr>\n",
       "    <tr>\n",
       "      <th>1</th>\n",
       "      <td>e2127556f4f64592b11af22de27a7932</td>\n",
       "      <td>0.0</td>\n",
       "      <td>0.0</td>\n",
       "      <td>0.0</td>\n",
       "      <td>2906b810c7d4411798c6938adc9daaa5</td>\n",
       "      <td>0</td>\n",
       "      <td>1</td>\n",
       "      <td>0</td>\n",
       "      <td>0</td>\n",
       "    </tr>\n",
       "    <tr>\n",
       "      <th>2</th>\n",
       "      <td>389bc3fa690240e798340f5a15918d5c</td>\n",
       "      <td>0.0</td>\n",
       "      <td>0.0</td>\n",
       "      <td>0.0</td>\n",
       "      <td>f19421c1d4aa40978ebb69ca19b0e20d</td>\n",
       "      <td>0</td>\n",
       "      <td>1</td>\n",
       "      <td>0</td>\n",
       "      <td>0</td>\n",
       "    </tr>\n",
       "    <tr>\n",
       "      <th>3</th>\n",
       "      <td>2eeac8d8feae4a8cad5a6af0499a211d</td>\n",
       "      <td>0.0</td>\n",
       "      <td>0.0</td>\n",
       "      <td>0.0</td>\n",
       "      <td>3f207df678b143eea3cee63160fa8bed</td>\n",
       "      <td>0</td>\n",
       "      <td>1</td>\n",
       "      <td>0</td>\n",
       "      <td>0</td>\n",
       "    </tr>\n",
       "    <tr>\n",
       "      <th>4</th>\n",
       "      <td>aa4862eba776480b8bb9c68455b8c2e1</td>\n",
       "      <td>0.0</td>\n",
       "      <td>0.0</td>\n",
       "      <td>0.0</td>\n",
       "      <td>0b1e1539f2cc45b7b9fa7c272da2e1d7</td>\n",
       "      <td>0</td>\n",
       "      <td>1</td>\n",
       "      <td>0</td>\n",
       "      <td>0</td>\n",
       "    </tr>\n",
       "  </tbody>\n",
       "</table>\n",
       "</div>"
      ],
      "text/plain": [
       "                        Customer_id  time  amount  reward  \\\n",
       "0  78afa995795e4d85b5d9ceeca43f5fef   0.0     0.0     0.0   \n",
       "1  e2127556f4f64592b11af22de27a7932   0.0     0.0     0.0   \n",
       "2  389bc3fa690240e798340f5a15918d5c   0.0     0.0     0.0   \n",
       "3  2eeac8d8feae4a8cad5a6af0499a211d   0.0     0.0     0.0   \n",
       "4  aa4862eba776480b8bb9c68455b8c2e1   0.0     0.0     0.0   \n",
       "\n",
       "                           offer_id  offer completed  offer received  \\\n",
       "0  9b98b8c7a33c4b65b9aebfe6a799e6d9                0               1   \n",
       "1  2906b810c7d4411798c6938adc9daaa5                0               1   \n",
       "2  f19421c1d4aa40978ebb69ca19b0e20d                0               1   \n",
       "3  3f207df678b143eea3cee63160fa8bed                0               1   \n",
       "4  0b1e1539f2cc45b7b9fa7c272da2e1d7                0               1   \n",
       "\n",
       "   offer viewed  transaction  \n",
       "0             0            0  \n",
       "1             0            0  \n",
       "2             0            0  \n",
       "3             0            0  \n",
       "4             0            0  "
      ]
     },
     "execution_count": 52,
     "metadata": {},
     "output_type": "execute_result"
    }
   ],
   "source": [
    "transcript.head()"
   ]
  },
  {
   "cell_type": "code",
   "execution_count": 53,
   "metadata": {},
   "outputs": [],
   "source": [
    "transcript.rename(columns={'reward':'reward_received'},inplace=True)"
   ]
  },
  {
   "cell_type": "markdown",
   "metadata": {},
   "source": [
    "Now the transcript data is ready,I will create a copy of this file to modify and use for the analysis."
   ]
  },
  {
   "cell_type": "code",
   "execution_count": 54,
   "metadata": {},
   "outputs": [],
   "source": [
    "offer_data = transcript.copy()"
   ]
  },
  {
   "cell_type": "code",
   "execution_count": 55,
   "metadata": {},
   "outputs": [],
   "source": [
    "offer_data = offer_data[['Customer_id', 'offer_id','time', 'amount', 'reward_received', 'offer completed',\n",
    "       'offer received', 'offer viewed', 'transaction']]"
   ]
  },
  {
   "cell_type": "code",
   "execution_count": 56,
   "metadata": {},
   "outputs": [],
   "source": [
    "offer_data['Customer_and_offer_ids'] = offer_data['Customer_id'] + '/'+ offer_data['offer_id']"
   ]
  },
  {
   "cell_type": "code",
   "execution_count": 57,
   "metadata": {},
   "outputs": [],
   "source": [
    "offer_data_time = offer_data[offer_data['offer received']==1][['Customer_and_offer_ids','time']]\n",
    "offer_data_time.rename(columns={'time':'offer_starttime'},inplace=True)\n",
    "offer_data_time = offer_data_time.groupby(['Customer_and_offer_ids']).agg({'offer_starttime':'mean'})"
   ]
  },
  {
   "cell_type": "code",
   "execution_count": 58,
   "metadata": {},
   "outputs": [],
   "source": [
    "offer_data = offer_data.merge(offer_data_time, how = 'left', on =['Customer_and_offer_ids'])"
   ]
  },
  {
   "cell_type": "code",
   "execution_count": 59,
   "metadata": {},
   "outputs": [
    {
     "data": {
      "text/plain": [
       "(268791, 11)"
      ]
     },
     "execution_count": 59,
     "metadata": {},
     "output_type": "execute_result"
    }
   ],
   "source": [
    "offer_data.shape"
   ]
  },
  {
   "cell_type": "code",
   "execution_count": 60,
   "metadata": {},
   "outputs": [],
   "source": [
    "offer_data = offer_data.merge(portfolio, how='left', on = 'offer_id')"
   ]
  },
  {
   "cell_type": "code",
   "execution_count": 61,
   "metadata": {},
   "outputs": [
    {
     "data": {
      "text/plain": [
       "(268791, 21)"
      ]
     },
     "execution_count": 61,
     "metadata": {},
     "output_type": "execute_result"
    }
   ],
   "source": [
    "offer_data.shape"
   ]
  },
  {
   "cell_type": "code",
   "execution_count": 62,
   "metadata": {},
   "outputs": [],
   "source": [
    "offer_data['within_duration'] = np.logical_and(offer_data['time']>= offer_data['offer_starttime'], offer_data['time']<= (offer_data['offer_starttime'] + offer_data['duration'])).astype(int)"
   ]
  },
  {
   "cell_type": "code",
   "execution_count": 63,
   "metadata": {},
   "outputs": [],
   "source": [
    "offer_data = offer_data[['Customer_and_offer_ids','Customer_id','offer_id','bogo', 'discount', 'informational','offer_starttime','duration','difficulty','totalreward','email',\n",
    "       'mobile', 'social', 'web','offer received', 'offer viewed','transaction','offer completed','within_duration','amount','reward_received']]"
   ]
  },
  {
   "cell_type": "code",
   "execution_count": 64,
   "metadata": {},
   "outputs": [
    {
     "data": {
      "text/html": [
       "<div>\n",
       "<style scoped>\n",
       "    .dataframe tbody tr th:only-of-type {\n",
       "        vertical-align: middle;\n",
       "    }\n",
       "\n",
       "    .dataframe tbody tr th {\n",
       "        vertical-align: top;\n",
       "    }\n",
       "\n",
       "    .dataframe thead th {\n",
       "        text-align: right;\n",
       "    }\n",
       "</style>\n",
       "<table border=\"1\" class=\"dataframe\">\n",
       "  <thead>\n",
       "    <tr style=\"text-align: right;\">\n",
       "      <th></th>\n",
       "      <th>Customer_and_offer_ids</th>\n",
       "      <th>Customer_id</th>\n",
       "      <th>offer_id</th>\n",
       "      <th>bogo</th>\n",
       "      <th>discount</th>\n",
       "      <th>informational</th>\n",
       "      <th>offer_starttime</th>\n",
       "      <th>duration</th>\n",
       "      <th>difficulty</th>\n",
       "      <th>totalreward</th>\n",
       "      <th>...</th>\n",
       "      <th>mobile</th>\n",
       "      <th>social</th>\n",
       "      <th>web</th>\n",
       "      <th>offer received</th>\n",
       "      <th>offer viewed</th>\n",
       "      <th>transaction</th>\n",
       "      <th>offer completed</th>\n",
       "      <th>within_duration</th>\n",
       "      <th>amount</th>\n",
       "      <th>reward_received</th>\n",
       "    </tr>\n",
       "  </thead>\n",
       "  <tbody>\n",
       "    <tr>\n",
       "      <th>0</th>\n",
       "      <td>78afa995795e4d85b5d9ceeca43f5fef/9b98b8c7a33c4...</td>\n",
       "      <td>78afa995795e4d85b5d9ceeca43f5fef</td>\n",
       "      <td>9b98b8c7a33c4b65b9aebfe6a799e6d9</td>\n",
       "      <td>1</td>\n",
       "      <td>0</td>\n",
       "      <td>0</td>\n",
       "      <td>0.0</td>\n",
       "      <td>7</td>\n",
       "      <td>5</td>\n",
       "      <td>5</td>\n",
       "      <td>...</td>\n",
       "      <td>1</td>\n",
       "      <td>0</td>\n",
       "      <td>1</td>\n",
       "      <td>1</td>\n",
       "      <td>0</td>\n",
       "      <td>0</td>\n",
       "      <td>0</td>\n",
       "      <td>1</td>\n",
       "      <td>0.0</td>\n",
       "      <td>0.0</td>\n",
       "    </tr>\n",
       "    <tr>\n",
       "      <th>1</th>\n",
       "      <td>e2127556f4f64592b11af22de27a7932/2906b810c7d44...</td>\n",
       "      <td>e2127556f4f64592b11af22de27a7932</td>\n",
       "      <td>2906b810c7d4411798c6938adc9daaa5</td>\n",
       "      <td>0</td>\n",
       "      <td>1</td>\n",
       "      <td>0</td>\n",
       "      <td>0.0</td>\n",
       "      <td>7</td>\n",
       "      <td>10</td>\n",
       "      <td>2</td>\n",
       "      <td>...</td>\n",
       "      <td>1</td>\n",
       "      <td>0</td>\n",
       "      <td>1</td>\n",
       "      <td>1</td>\n",
       "      <td>0</td>\n",
       "      <td>0</td>\n",
       "      <td>0</td>\n",
       "      <td>1</td>\n",
       "      <td>0.0</td>\n",
       "      <td>0.0</td>\n",
       "    </tr>\n",
       "    <tr>\n",
       "      <th>2</th>\n",
       "      <td>389bc3fa690240e798340f5a15918d5c/f19421c1d4aa4...</td>\n",
       "      <td>389bc3fa690240e798340f5a15918d5c</td>\n",
       "      <td>f19421c1d4aa40978ebb69ca19b0e20d</td>\n",
       "      <td>1</td>\n",
       "      <td>0</td>\n",
       "      <td>0</td>\n",
       "      <td>10.5</td>\n",
       "      <td>5</td>\n",
       "      <td>5</td>\n",
       "      <td>5</td>\n",
       "      <td>...</td>\n",
       "      <td>1</td>\n",
       "      <td>1</td>\n",
       "      <td>1</td>\n",
       "      <td>1</td>\n",
       "      <td>0</td>\n",
       "      <td>0</td>\n",
       "      <td>0</td>\n",
       "      <td>0</td>\n",
       "      <td>0.0</td>\n",
       "      <td>0.0</td>\n",
       "    </tr>\n",
       "    <tr>\n",
       "      <th>3</th>\n",
       "      <td>2eeac8d8feae4a8cad5a6af0499a211d/3f207df678b14...</td>\n",
       "      <td>2eeac8d8feae4a8cad5a6af0499a211d</td>\n",
       "      <td>3f207df678b143eea3cee63160fa8bed</td>\n",
       "      <td>0</td>\n",
       "      <td>0</td>\n",
       "      <td>1</td>\n",
       "      <td>0.0</td>\n",
       "      <td>4</td>\n",
       "      <td>0</td>\n",
       "      <td>0</td>\n",
       "      <td>...</td>\n",
       "      <td>1</td>\n",
       "      <td>0</td>\n",
       "      <td>1</td>\n",
       "      <td>1</td>\n",
       "      <td>0</td>\n",
       "      <td>0</td>\n",
       "      <td>0</td>\n",
       "      <td>1</td>\n",
       "      <td>0.0</td>\n",
       "      <td>0.0</td>\n",
       "    </tr>\n",
       "    <tr>\n",
       "      <th>4</th>\n",
       "      <td>aa4862eba776480b8bb9c68455b8c2e1/0b1e1539f2cc4...</td>\n",
       "      <td>aa4862eba776480b8bb9c68455b8c2e1</td>\n",
       "      <td>0b1e1539f2cc45b7b9fa7c272da2e1d7</td>\n",
       "      <td>0</td>\n",
       "      <td>1</td>\n",
       "      <td>0</td>\n",
       "      <td>0.0</td>\n",
       "      <td>10</td>\n",
       "      <td>20</td>\n",
       "      <td>5</td>\n",
       "      <td>...</td>\n",
       "      <td>0</td>\n",
       "      <td>0</td>\n",
       "      <td>1</td>\n",
       "      <td>1</td>\n",
       "      <td>0</td>\n",
       "      <td>0</td>\n",
       "      <td>0</td>\n",
       "      <td>1</td>\n",
       "      <td>0.0</td>\n",
       "      <td>0.0</td>\n",
       "    </tr>\n",
       "  </tbody>\n",
       "</table>\n",
       "<p>5 rows × 21 columns</p>\n",
       "</div>"
      ],
      "text/plain": [
       "                              Customer_and_offer_ids  \\\n",
       "0  78afa995795e4d85b5d9ceeca43f5fef/9b98b8c7a33c4...   \n",
       "1  e2127556f4f64592b11af22de27a7932/2906b810c7d44...   \n",
       "2  389bc3fa690240e798340f5a15918d5c/f19421c1d4aa4...   \n",
       "3  2eeac8d8feae4a8cad5a6af0499a211d/3f207df678b14...   \n",
       "4  aa4862eba776480b8bb9c68455b8c2e1/0b1e1539f2cc4...   \n",
       "\n",
       "                        Customer_id                          offer_id  bogo  \\\n",
       "0  78afa995795e4d85b5d9ceeca43f5fef  9b98b8c7a33c4b65b9aebfe6a799e6d9     1   \n",
       "1  e2127556f4f64592b11af22de27a7932  2906b810c7d4411798c6938adc9daaa5     0   \n",
       "2  389bc3fa690240e798340f5a15918d5c  f19421c1d4aa40978ebb69ca19b0e20d     1   \n",
       "3  2eeac8d8feae4a8cad5a6af0499a211d  3f207df678b143eea3cee63160fa8bed     0   \n",
       "4  aa4862eba776480b8bb9c68455b8c2e1  0b1e1539f2cc45b7b9fa7c272da2e1d7     0   \n",
       "\n",
       "   discount  informational  offer_starttime  duration  difficulty  \\\n",
       "0         0              0              0.0         7           5   \n",
       "1         1              0              0.0         7          10   \n",
       "2         0              0             10.5         5           5   \n",
       "3         0              1              0.0         4           0   \n",
       "4         1              0              0.0        10          20   \n",
       "\n",
       "   totalreward       ...         mobile  social  web  offer received  \\\n",
       "0            5       ...              1       0    1               1   \n",
       "1            2       ...              1       0    1               1   \n",
       "2            5       ...              1       1    1               1   \n",
       "3            0       ...              1       0    1               1   \n",
       "4            5       ...              0       0    1               1   \n",
       "\n",
       "   offer viewed  transaction  offer completed  within_duration  amount  \\\n",
       "0             0            0                0                1     0.0   \n",
       "1             0            0                0                1     0.0   \n",
       "2             0            0                0                0     0.0   \n",
       "3             0            0                0                1     0.0   \n",
       "4             0            0                0                1     0.0   \n",
       "\n",
       "   reward_received  \n",
       "0              0.0  \n",
       "1              0.0  \n",
       "2              0.0  \n",
       "3              0.0  \n",
       "4              0.0  \n",
       "\n",
       "[5 rows x 21 columns]"
      ]
     },
     "execution_count": 64,
     "metadata": {},
     "output_type": "execute_result"
    }
   ],
   "source": [
    "offer_data.head()"
   ]
  },
  {
   "cell_type": "code",
   "execution_count": 65,
   "metadata": {},
   "outputs": [
    {
     "data": {
      "text/plain": [
       "(268791, 21)"
      ]
     },
     "execution_count": 65,
     "metadata": {},
     "output_type": "execute_result"
    }
   ],
   "source": [
    "offer_data.shape"
   ]
  },
  {
   "cell_type": "code",
   "execution_count": 66,
   "metadata": {},
   "outputs": [
    {
     "data": {
      "text/plain": [
       "100846"
      ]
     },
     "execution_count": 66,
     "metadata": {},
     "output_type": "execute_result"
    }
   ],
   "source": [
    "offer_data['Customer_and_offer_ids'].nunique()"
   ]
  },
  {
   "cell_type": "markdown",
   "metadata": {},
   "source": [
    "We can see that there are 100,846 unique records based on combined customer and offer ids. We will have to group the data by this column to make sure there are no duplicate rows. After grouping the data, I will filter for only those records that have received the offers as that is the first step for an offer to be successful."
   ]
  },
  {
   "cell_type": "code",
   "execution_count": 67,
   "metadata": {},
   "outputs": [],
   "source": [
    "offer_data_grouped = offer_data.groupby(['Customer_and_offer_ids']).agg({'bogo':'mean','discount':'mean','informational':'mean','offer_starttime':'mean','duration':'mean','difficulty':'mean','totalreward':'mean','email':'mean','mobile':'mean', 'social':'mean', 'web':'mean','offer received':'sum', 'offer viewed':'sum','transaction':'sum','offer completed':'sum','within_duration':'sum','amount':'sum','reward_received':'sum' })"
   ]
  },
  {
   "cell_type": "code",
   "execution_count": 68,
   "metadata": {},
   "outputs": [],
   "source": [
    "offer_data_grouped = offer_data_grouped.reset_index()"
   ]
  },
  {
   "cell_type": "code",
   "execution_count": 69,
   "metadata": {},
   "outputs": [
    {
     "data": {
      "text/html": [
       "<div>\n",
       "<style scoped>\n",
       "    .dataframe tbody tr th:only-of-type {\n",
       "        vertical-align: middle;\n",
       "    }\n",
       "\n",
       "    .dataframe tbody tr th {\n",
       "        vertical-align: top;\n",
       "    }\n",
       "\n",
       "    .dataframe thead th {\n",
       "        text-align: right;\n",
       "    }\n",
       "</style>\n",
       "<table border=\"1\" class=\"dataframe\">\n",
       "  <thead>\n",
       "    <tr style=\"text-align: right;\">\n",
       "      <th></th>\n",
       "      <th>Customer_and_offer_ids</th>\n",
       "      <th>bogo</th>\n",
       "      <th>discount</th>\n",
       "      <th>informational</th>\n",
       "      <th>offer_starttime</th>\n",
       "      <th>duration</th>\n",
       "      <th>difficulty</th>\n",
       "      <th>totalreward</th>\n",
       "      <th>email</th>\n",
       "      <th>mobile</th>\n",
       "      <th>social</th>\n",
       "      <th>web</th>\n",
       "      <th>offer received</th>\n",
       "      <th>offer viewed</th>\n",
       "      <th>transaction</th>\n",
       "      <th>offer completed</th>\n",
       "      <th>within_duration</th>\n",
       "      <th>amount</th>\n",
       "      <th>reward_received</th>\n",
       "    </tr>\n",
       "  </thead>\n",
       "  <tbody>\n",
       "    <tr>\n",
       "      <th>0</th>\n",
       "      <td>0009655768c64bdeb2e877511632db8f/0b1e1539f2cc4...</td>\n",
       "      <td>0</td>\n",
       "      <td>1</td>\n",
       "      <td>0</td>\n",
       "      <td>NaN</td>\n",
       "      <td>10</td>\n",
       "      <td>20</td>\n",
       "      <td>5</td>\n",
       "      <td>1</td>\n",
       "      <td>0</td>\n",
       "      <td>0</td>\n",
       "      <td>1</td>\n",
       "      <td>0</td>\n",
       "      <td>0</td>\n",
       "      <td>1</td>\n",
       "      <td>0</td>\n",
       "      <td>0</td>\n",
       "      <td>12.36</td>\n",
       "      <td>0.0</td>\n",
       "    </tr>\n",
       "    <tr>\n",
       "      <th>1</th>\n",
       "      <td>0009655768c64bdeb2e877511632db8f/2298d6c36e964...</td>\n",
       "      <td>0</td>\n",
       "      <td>1</td>\n",
       "      <td>0</td>\n",
       "      <td>NaN</td>\n",
       "      <td>7</td>\n",
       "      <td>7</td>\n",
       "      <td>3</td>\n",
       "      <td>1</td>\n",
       "      <td>1</td>\n",
       "      <td>1</td>\n",
       "      <td>1</td>\n",
       "      <td>0</td>\n",
       "      <td>0</td>\n",
       "      <td>1</td>\n",
       "      <td>0</td>\n",
       "      <td>0</td>\n",
       "      <td>14.11</td>\n",
       "      <td>0.0</td>\n",
       "    </tr>\n",
       "    <tr>\n",
       "      <th>2</th>\n",
       "      <td>0009655768c64bdeb2e877511632db8f/2906b810c7d44...</td>\n",
       "      <td>0</td>\n",
       "      <td>1</td>\n",
       "      <td>0</td>\n",
       "      <td>24.0</td>\n",
       "      <td>7</td>\n",
       "      <td>10</td>\n",
       "      <td>2</td>\n",
       "      <td>1</td>\n",
       "      <td>1</td>\n",
       "      <td>0</td>\n",
       "      <td>1</td>\n",
       "      <td>1</td>\n",
       "      <td>0</td>\n",
       "      <td>2</td>\n",
       "      <td>1</td>\n",
       "      <td>4</td>\n",
       "      <td>28.68</td>\n",
       "      <td>2.0</td>\n",
       "    </tr>\n",
       "    <tr>\n",
       "      <th>3</th>\n",
       "      <td>0009655768c64bdeb2e877511632db8f/3f207df678b14...</td>\n",
       "      <td>0</td>\n",
       "      <td>0</td>\n",
       "      <td>1</td>\n",
       "      <td>14.0</td>\n",
       "      <td>4</td>\n",
       "      <td>0</td>\n",
       "      <td>0</td>\n",
       "      <td>1</td>\n",
       "      <td>1</td>\n",
       "      <td>0</td>\n",
       "      <td>1</td>\n",
       "      <td>1</td>\n",
       "      <td>1</td>\n",
       "      <td>0</td>\n",
       "      <td>0</td>\n",
       "      <td>2</td>\n",
       "      <td>0.00</td>\n",
       "      <td>0.0</td>\n",
       "    </tr>\n",
       "    <tr>\n",
       "      <th>4</th>\n",
       "      <td>0009655768c64bdeb2e877511632db8f/5a8bc65990b24...</td>\n",
       "      <td>0</td>\n",
       "      <td>0</td>\n",
       "      <td>1</td>\n",
       "      <td>7.0</td>\n",
       "      <td>3</td>\n",
       "      <td>0</td>\n",
       "      <td>0</td>\n",
       "      <td>1</td>\n",
       "      <td>1</td>\n",
       "      <td>1</td>\n",
       "      <td>0</td>\n",
       "      <td>1</td>\n",
       "      <td>1</td>\n",
       "      <td>1</td>\n",
       "      <td>0</td>\n",
       "      <td>2</td>\n",
       "      <td>8.57</td>\n",
       "      <td>0.0</td>\n",
       "    </tr>\n",
       "    <tr>\n",
       "      <th>5</th>\n",
       "      <td>0009655768c64bdeb2e877511632db8f/9b98b8c7a33c4...</td>\n",
       "      <td>1</td>\n",
       "      <td>0</td>\n",
       "      <td>0</td>\n",
       "      <td>NaN</td>\n",
       "      <td>7</td>\n",
       "      <td>5</td>\n",
       "      <td>5</td>\n",
       "      <td>1</td>\n",
       "      <td>1</td>\n",
       "      <td>0</td>\n",
       "      <td>1</td>\n",
       "      <td>0</td>\n",
       "      <td>0</td>\n",
       "      <td>1</td>\n",
       "      <td>0</td>\n",
       "      <td>0</td>\n",
       "      <td>28.16</td>\n",
       "      <td>0.0</td>\n",
       "    </tr>\n",
       "    <tr>\n",
       "      <th>6</th>\n",
       "      <td>0009655768c64bdeb2e877511632db8f/f19421c1d4aa4...</td>\n",
       "      <td>1</td>\n",
       "      <td>0</td>\n",
       "      <td>0</td>\n",
       "      <td>17.0</td>\n",
       "      <td>5</td>\n",
       "      <td>5</td>\n",
       "      <td>5</td>\n",
       "      <td>1</td>\n",
       "      <td>1</td>\n",
       "      <td>1</td>\n",
       "      <td>1</td>\n",
       "      <td>1</td>\n",
       "      <td>1</td>\n",
       "      <td>1</td>\n",
       "      <td>1</td>\n",
       "      <td>3</td>\n",
       "      <td>22.16</td>\n",
       "      <td>5.0</td>\n",
       "    </tr>\n",
       "    <tr>\n",
       "      <th>7</th>\n",
       "      <td>0009655768c64bdeb2e877511632db8f/fafdcd668e374...</td>\n",
       "      <td>0</td>\n",
       "      <td>1</td>\n",
       "      <td>0</td>\n",
       "      <td>21.0</td>\n",
       "      <td>10</td>\n",
       "      <td>10</td>\n",
       "      <td>2</td>\n",
       "      <td>1</td>\n",
       "      <td>1</td>\n",
       "      <td>1</td>\n",
       "      <td>1</td>\n",
       "      <td>1</td>\n",
       "      <td>1</td>\n",
       "      <td>1</td>\n",
       "      <td>1</td>\n",
       "      <td>4</td>\n",
       "      <td>13.56</td>\n",
       "      <td>2.0</td>\n",
       "    </tr>\n",
       "    <tr>\n",
       "      <th>8</th>\n",
       "      <td>0020c2b971eb4e9188eac86d93036a77/2906b810c7d44...</td>\n",
       "      <td>0</td>\n",
       "      <td>1</td>\n",
       "      <td>0</td>\n",
       "      <td>NaN</td>\n",
       "      <td>7</td>\n",
       "      <td>10</td>\n",
       "      <td>2</td>\n",
       "      <td>1</td>\n",
       "      <td>1</td>\n",
       "      <td>0</td>\n",
       "      <td>1</td>\n",
       "      <td>0</td>\n",
       "      <td>0</td>\n",
       "      <td>1</td>\n",
       "      <td>0</td>\n",
       "      <td>0</td>\n",
       "      <td>33.86</td>\n",
       "      <td>0.0</td>\n",
       "    </tr>\n",
       "    <tr>\n",
       "      <th>9</th>\n",
       "      <td>0020c2b971eb4e9188eac86d93036a77/3f207df678b14...</td>\n",
       "      <td>0</td>\n",
       "      <td>0</td>\n",
       "      <td>1</td>\n",
       "      <td>NaN</td>\n",
       "      <td>4</td>\n",
       "      <td>0</td>\n",
       "      <td>0</td>\n",
       "      <td>1</td>\n",
       "      <td>1</td>\n",
       "      <td>0</td>\n",
       "      <td>1</td>\n",
       "      <td>0</td>\n",
       "      <td>0</td>\n",
       "      <td>3</td>\n",
       "      <td>0</td>\n",
       "      <td>0</td>\n",
       "      <td>75.80</td>\n",
       "      <td>0.0</td>\n",
       "    </tr>\n",
       "  </tbody>\n",
       "</table>\n",
       "</div>"
      ],
      "text/plain": [
       "                              Customer_and_offer_ids  bogo  discount  \\\n",
       "0  0009655768c64bdeb2e877511632db8f/0b1e1539f2cc4...     0         1   \n",
       "1  0009655768c64bdeb2e877511632db8f/2298d6c36e964...     0         1   \n",
       "2  0009655768c64bdeb2e877511632db8f/2906b810c7d44...     0         1   \n",
       "3  0009655768c64bdeb2e877511632db8f/3f207df678b14...     0         0   \n",
       "4  0009655768c64bdeb2e877511632db8f/5a8bc65990b24...     0         0   \n",
       "5  0009655768c64bdeb2e877511632db8f/9b98b8c7a33c4...     1         0   \n",
       "6  0009655768c64bdeb2e877511632db8f/f19421c1d4aa4...     1         0   \n",
       "7  0009655768c64bdeb2e877511632db8f/fafdcd668e374...     0         1   \n",
       "8  0020c2b971eb4e9188eac86d93036a77/2906b810c7d44...     0         1   \n",
       "9  0020c2b971eb4e9188eac86d93036a77/3f207df678b14...     0         0   \n",
       "\n",
       "   informational  offer_starttime  duration  difficulty  totalreward  email  \\\n",
       "0              0              NaN        10          20            5      1   \n",
       "1              0              NaN         7           7            3      1   \n",
       "2              0             24.0         7          10            2      1   \n",
       "3              1             14.0         4           0            0      1   \n",
       "4              1              7.0         3           0            0      1   \n",
       "5              0              NaN         7           5            5      1   \n",
       "6              0             17.0         5           5            5      1   \n",
       "7              0             21.0        10          10            2      1   \n",
       "8              0              NaN         7          10            2      1   \n",
       "9              1              NaN         4           0            0      1   \n",
       "\n",
       "   mobile  social  web  offer received  offer viewed  transaction  \\\n",
       "0       0       0    1               0             0            1   \n",
       "1       1       1    1               0             0            1   \n",
       "2       1       0    1               1             0            2   \n",
       "3       1       0    1               1             1            0   \n",
       "4       1       1    0               1             1            1   \n",
       "5       1       0    1               0             0            1   \n",
       "6       1       1    1               1             1            1   \n",
       "7       1       1    1               1             1            1   \n",
       "8       1       0    1               0             0            1   \n",
       "9       1       0    1               0             0            3   \n",
       "\n",
       "   offer completed  within_duration  amount  reward_received  \n",
       "0                0                0   12.36              0.0  \n",
       "1                0                0   14.11              0.0  \n",
       "2                1                4   28.68              2.0  \n",
       "3                0                2    0.00              0.0  \n",
       "4                0                2    8.57              0.0  \n",
       "5                0                0   28.16              0.0  \n",
       "6                1                3   22.16              5.0  \n",
       "7                1                4   13.56              2.0  \n",
       "8                0                0   33.86              0.0  \n",
       "9                0                0   75.80              0.0  "
      ]
     },
     "execution_count": 69,
     "metadata": {},
     "output_type": "execute_result"
    }
   ],
   "source": [
    "offer_data_grouped.head(10)"
   ]
  },
  {
   "cell_type": "code",
   "execution_count": 70,
   "metadata": {},
   "outputs": [
    {
     "data": {
      "text/plain": [
       "(100846, 19)"
      ]
     },
     "execution_count": 70,
     "metadata": {},
     "output_type": "execute_result"
    }
   ],
   "source": [
    "offer_data_grouped.shape"
   ]
  },
  {
   "cell_type": "code",
   "execution_count": 71,
   "metadata": {},
   "outputs": [],
   "source": [
    "offer_data_grouped['offer_successful']=np.logical_or(np.logical_and(offer_data_grouped['informational'] ==1,offer_data_grouped['within_duration']>=3).astype(int), (offer_data_grouped['within_duration']>=4).astype(int)).astype(int)"
   ]
  },
  {
   "cell_type": "code",
   "execution_count": 72,
   "metadata": {},
   "outputs": [],
   "source": [
    "offer_received_data = offer_data_grouped[(offer_data_grouped['offer received'] == 1)]"
   ]
  },
  {
   "cell_type": "code",
   "execution_count": 73,
   "metadata": {},
   "outputs": [
    {
     "name": "stderr",
     "output_type": "stream",
     "text": [
      "/opt/conda/lib/python3.6/site-packages/pandas/core/frame.py:3140: SettingWithCopyWarning: \n",
      "A value is trying to be set on a copy of a slice from a DataFrame.\n",
      "Try using .loc[row_indexer,col_indexer] = value instead\n",
      "\n",
      "See the caveats in the documentation: http://pandas.pydata.org/pandas-docs/stable/indexing.html#indexing-view-versus-copy\n",
      "  self[k1] = value[k2]\n"
     ]
    }
   ],
   "source": [
    "offer_received_data[['Customer_id','offer_id']] = offer_received_data['Customer_and_offer_ids'].str.split('/',expand=True)"
   ]
  },
  {
   "cell_type": "code",
   "execution_count": 74,
   "metadata": {},
   "outputs": [],
   "source": [
    "offer_received_data = offer_received_data.drop(columns =\"Customer_and_offer_ids\")"
   ]
  },
  {
   "cell_type": "code",
   "execution_count": 75,
   "metadata": {},
   "outputs": [],
   "source": [
    "offer_received_data = offer_received_data[['Customer_id',\n",
    "       'offer_id','bogo', 'discount', 'informational', 'offer_starttime', 'duration',\n",
    "       'difficulty', 'totalreward', 'email', 'mobile', 'social', 'web',\n",
    "       'offer received', 'offer viewed', 'transaction','offer completed', 'within_duration',\n",
    "       'amount', 'reward_received', 'offer_successful']]"
   ]
  },
  {
   "cell_type": "code",
   "execution_count": 76,
   "metadata": {},
   "outputs": [
    {
     "data": {
      "text/plain": [
       "(44412, 21)"
      ]
     },
     "execution_count": 76,
     "metadata": {},
     "output_type": "execute_result"
    }
   ],
   "source": [
    "offer_received_data.shape"
   ]
  },
  {
   "cell_type": "markdown",
   "metadata": {},
   "source": [
    "Now I have grouped and filtered the offer data, I will merge it with profile data to obtain customer demographics. "
   ]
  },
  {
   "cell_type": "code",
   "execution_count": 77,
   "metadata": {},
   "outputs": [],
   "source": [
    "new_dataset = offer_received_data.merge(profile, how='left', on = 'Customer_id')"
   ]
  },
  {
   "cell_type": "code",
   "execution_count": 78,
   "metadata": {},
   "outputs": [
    {
     "data": {
      "text/plain": [
       "(44412, 25)"
      ]
     },
     "execution_count": 78,
     "metadata": {},
     "output_type": "execute_result"
    }
   ],
   "source": [
    "new_dataset.shape"
   ]
  },
  {
   "cell_type": "code",
   "execution_count": 79,
   "metadata": {},
   "outputs": [
    {
     "data": {
      "text/html": [
       "<div>\n",
       "<style scoped>\n",
       "    .dataframe tbody tr th:only-of-type {\n",
       "        vertical-align: middle;\n",
       "    }\n",
       "\n",
       "    .dataframe tbody tr th {\n",
       "        vertical-align: top;\n",
       "    }\n",
       "\n",
       "    .dataframe thead th {\n",
       "        text-align: right;\n",
       "    }\n",
       "</style>\n",
       "<table border=\"1\" class=\"dataframe\">\n",
       "  <thead>\n",
       "    <tr style=\"text-align: right;\">\n",
       "      <th></th>\n",
       "      <th>Customer_id</th>\n",
       "      <th>offer_id</th>\n",
       "      <th>bogo</th>\n",
       "      <th>discount</th>\n",
       "      <th>informational</th>\n",
       "      <th>offer_starttime</th>\n",
       "      <th>duration</th>\n",
       "      <th>difficulty</th>\n",
       "      <th>totalreward</th>\n",
       "      <th>email</th>\n",
       "      <th>...</th>\n",
       "      <th>transaction</th>\n",
       "      <th>offer completed</th>\n",
       "      <th>within_duration</th>\n",
       "      <th>amount</th>\n",
       "      <th>reward_received</th>\n",
       "      <th>offer_successful</th>\n",
       "      <th>age</th>\n",
       "      <th>became_member_on</th>\n",
       "      <th>gender</th>\n",
       "      <th>income</th>\n",
       "    </tr>\n",
       "  </thead>\n",
       "  <tbody>\n",
       "    <tr>\n",
       "      <th>0</th>\n",
       "      <td>0009655768c64bdeb2e877511632db8f</td>\n",
       "      <td>2906b810c7d4411798c6938adc9daaa5</td>\n",
       "      <td>0</td>\n",
       "      <td>1</td>\n",
       "      <td>0</td>\n",
       "      <td>24.0</td>\n",
       "      <td>7</td>\n",
       "      <td>10</td>\n",
       "      <td>2</td>\n",
       "      <td>1</td>\n",
       "      <td>...</td>\n",
       "      <td>2</td>\n",
       "      <td>1</td>\n",
       "      <td>4</td>\n",
       "      <td>28.68</td>\n",
       "      <td>2.0</td>\n",
       "      <td>1</td>\n",
       "      <td>33</td>\n",
       "      <td>20170421</td>\n",
       "      <td>M</td>\n",
       "      <td>72000.0</td>\n",
       "    </tr>\n",
       "    <tr>\n",
       "      <th>1</th>\n",
       "      <td>0009655768c64bdeb2e877511632db8f</td>\n",
       "      <td>3f207df678b143eea3cee63160fa8bed</td>\n",
       "      <td>0</td>\n",
       "      <td>0</td>\n",
       "      <td>1</td>\n",
       "      <td>14.0</td>\n",
       "      <td>4</td>\n",
       "      <td>0</td>\n",
       "      <td>0</td>\n",
       "      <td>1</td>\n",
       "      <td>...</td>\n",
       "      <td>0</td>\n",
       "      <td>0</td>\n",
       "      <td>2</td>\n",
       "      <td>0.00</td>\n",
       "      <td>0.0</td>\n",
       "      <td>0</td>\n",
       "      <td>33</td>\n",
       "      <td>20170421</td>\n",
       "      <td>M</td>\n",
       "      <td>72000.0</td>\n",
       "    </tr>\n",
       "    <tr>\n",
       "      <th>2</th>\n",
       "      <td>0009655768c64bdeb2e877511632db8f</td>\n",
       "      <td>5a8bc65990b245e5a138643cd4eb9837</td>\n",
       "      <td>0</td>\n",
       "      <td>0</td>\n",
       "      <td>1</td>\n",
       "      <td>7.0</td>\n",
       "      <td>3</td>\n",
       "      <td>0</td>\n",
       "      <td>0</td>\n",
       "      <td>1</td>\n",
       "      <td>...</td>\n",
       "      <td>1</td>\n",
       "      <td>0</td>\n",
       "      <td>2</td>\n",
       "      <td>8.57</td>\n",
       "      <td>0.0</td>\n",
       "      <td>0</td>\n",
       "      <td>33</td>\n",
       "      <td>20170421</td>\n",
       "      <td>M</td>\n",
       "      <td>72000.0</td>\n",
       "    </tr>\n",
       "    <tr>\n",
       "      <th>3</th>\n",
       "      <td>0009655768c64bdeb2e877511632db8f</td>\n",
       "      <td>f19421c1d4aa40978ebb69ca19b0e20d</td>\n",
       "      <td>1</td>\n",
       "      <td>0</td>\n",
       "      <td>0</td>\n",
       "      <td>17.0</td>\n",
       "      <td>5</td>\n",
       "      <td>5</td>\n",
       "      <td>5</td>\n",
       "      <td>1</td>\n",
       "      <td>...</td>\n",
       "      <td>1</td>\n",
       "      <td>1</td>\n",
       "      <td>3</td>\n",
       "      <td>22.16</td>\n",
       "      <td>5.0</td>\n",
       "      <td>0</td>\n",
       "      <td>33</td>\n",
       "      <td>20170421</td>\n",
       "      <td>M</td>\n",
       "      <td>72000.0</td>\n",
       "    </tr>\n",
       "    <tr>\n",
       "      <th>4</th>\n",
       "      <td>0009655768c64bdeb2e877511632db8f</td>\n",
       "      <td>fafdcd668e3743c1bb461111dcafc2a4</td>\n",
       "      <td>0</td>\n",
       "      <td>1</td>\n",
       "      <td>0</td>\n",
       "      <td>21.0</td>\n",
       "      <td>10</td>\n",
       "      <td>10</td>\n",
       "      <td>2</td>\n",
       "      <td>1</td>\n",
       "      <td>...</td>\n",
       "      <td>1</td>\n",
       "      <td>1</td>\n",
       "      <td>4</td>\n",
       "      <td>13.56</td>\n",
       "      <td>2.0</td>\n",
       "      <td>1</td>\n",
       "      <td>33</td>\n",
       "      <td>20170421</td>\n",
       "      <td>M</td>\n",
       "      <td>72000.0</td>\n",
       "    </tr>\n",
       "  </tbody>\n",
       "</table>\n",
       "<p>5 rows × 25 columns</p>\n",
       "</div>"
      ],
      "text/plain": [
       "                        Customer_id                          offer_id  bogo  \\\n",
       "0  0009655768c64bdeb2e877511632db8f  2906b810c7d4411798c6938adc9daaa5     0   \n",
       "1  0009655768c64bdeb2e877511632db8f  3f207df678b143eea3cee63160fa8bed     0   \n",
       "2  0009655768c64bdeb2e877511632db8f  5a8bc65990b245e5a138643cd4eb9837     0   \n",
       "3  0009655768c64bdeb2e877511632db8f  f19421c1d4aa40978ebb69ca19b0e20d     1   \n",
       "4  0009655768c64bdeb2e877511632db8f  fafdcd668e3743c1bb461111dcafc2a4     0   \n",
       "\n",
       "   discount  informational  offer_starttime  duration  difficulty  \\\n",
       "0         1              0             24.0         7          10   \n",
       "1         0              1             14.0         4           0   \n",
       "2         0              1              7.0         3           0   \n",
       "3         0              0             17.0         5           5   \n",
       "4         1              0             21.0        10          10   \n",
       "\n",
       "   totalreward  email   ...     transaction  offer completed  within_duration  \\\n",
       "0            2      1   ...               2                1                4   \n",
       "1            0      1   ...               0                0                2   \n",
       "2            0      1   ...               1                0                2   \n",
       "3            5      1   ...               1                1                3   \n",
       "4            2      1   ...               1                1                4   \n",
       "\n",
       "   amount  reward_received  offer_successful  age  became_member_on  gender  \\\n",
       "0   28.68              2.0                 1   33          20170421       M   \n",
       "1    0.00              0.0                 0   33          20170421       M   \n",
       "2    8.57              0.0                 0   33          20170421       M   \n",
       "3   22.16              5.0                 0   33          20170421       M   \n",
       "4   13.56              2.0                 1   33          20170421       M   \n",
       "\n",
       "    income  \n",
       "0  72000.0  \n",
       "1  72000.0  \n",
       "2  72000.0  \n",
       "3  72000.0  \n",
       "4  72000.0  \n",
       "\n",
       "[5 rows x 25 columns]"
      ]
     },
     "execution_count": 79,
     "metadata": {},
     "output_type": "execute_result"
    }
   ],
   "source": [
    "new_dataset.head()"
   ]
  },
  {
   "cell_type": "code",
   "execution_count": 80,
   "metadata": {},
   "outputs": [],
   "source": [
    "new_dataset = new_dataset[['Customer_id', 'age', 'became_member_on', 'gender', 'income','offer_id', 'bogo', 'discount', 'informational',\n",
    "       'offer_starttime', 'duration', 'difficulty', 'totalreward', 'email',\n",
    "       'mobile', 'social', 'web', 'offer received', 'offer viewed','transaction',\n",
    "       'offer completed', 'within_duration', 'amount', 'reward_received',\n",
    "       'offer_successful']]"
   ]
  },
  {
   "cell_type": "markdown",
   "metadata": {},
   "source": [
    "In the merged data we have information on when the customer has become member of Starbucks, we can get memebrship stenure from this column to see if this feature has any effect on offer's success rate. I will then groupby this data based on offer's succcessfulness and gender to see the distribution of customer demographics."
   ]
  },
  {
   "cell_type": "code",
   "execution_count": 81,
   "metadata": {},
   "outputs": [],
   "source": [
    "new_dataset['became_member_on'] = pd.to_datetime(new_dataset['became_member_on'], format ='%Y%m%d')\n"
   ]
  },
  {
   "cell_type": "code",
   "execution_count": 82,
   "metadata": {},
   "outputs": [],
   "source": [
    "new_dataset['today'] = pd.to_datetime('today').strftime('%Y%m%d')\n",
    "new_dataset['today'] =  pd.to_datetime(new_dataset['today'], format ='%Y%m%d')\n",
    "new_dataset['membership_tenure'] = ((new_dataset['today']) - (new_dataset['became_member_on'])).dt.days"
   ]
  },
  {
   "cell_type": "code",
   "execution_count": 83,
   "metadata": {},
   "outputs": [],
   "source": [
    "new_dataset.drop(['became_member_on', 'today','within_duration'],axis =1, inplace = True)"
   ]
  },
  {
   "cell_type": "code",
   "execution_count": 84,
   "metadata": {},
   "outputs": [
    {
     "data": {
      "text/html": [
       "<div>\n",
       "<style scoped>\n",
       "    .dataframe tbody tr th:only-of-type {\n",
       "        vertical-align: middle;\n",
       "    }\n",
       "\n",
       "    .dataframe tbody tr th {\n",
       "        vertical-align: top;\n",
       "    }\n",
       "\n",
       "    .dataframe thead th {\n",
       "        text-align: right;\n",
       "    }\n",
       "</style>\n",
       "<table border=\"1\" class=\"dataframe\">\n",
       "  <thead>\n",
       "    <tr style=\"text-align: right;\">\n",
       "      <th></th>\n",
       "      <th>Customer_id</th>\n",
       "      <th>age</th>\n",
       "      <th>gender</th>\n",
       "      <th>income</th>\n",
       "      <th>offer_id</th>\n",
       "      <th>bogo</th>\n",
       "      <th>discount</th>\n",
       "      <th>informational</th>\n",
       "      <th>offer_starttime</th>\n",
       "      <th>duration</th>\n",
       "      <th>...</th>\n",
       "      <th>social</th>\n",
       "      <th>web</th>\n",
       "      <th>offer received</th>\n",
       "      <th>offer viewed</th>\n",
       "      <th>transaction</th>\n",
       "      <th>offer completed</th>\n",
       "      <th>amount</th>\n",
       "      <th>reward_received</th>\n",
       "      <th>offer_successful</th>\n",
       "      <th>membership_tenure</th>\n",
       "    </tr>\n",
       "  </thead>\n",
       "  <tbody>\n",
       "    <tr>\n",
       "      <th>0</th>\n",
       "      <td>0009655768c64bdeb2e877511632db8f</td>\n",
       "      <td>33</td>\n",
       "      <td>M</td>\n",
       "      <td>72000.0</td>\n",
       "      <td>2906b810c7d4411798c6938adc9daaa5</td>\n",
       "      <td>0</td>\n",
       "      <td>1</td>\n",
       "      <td>0</td>\n",
       "      <td>24.0</td>\n",
       "      <td>7</td>\n",
       "      <td>...</td>\n",
       "      <td>0</td>\n",
       "      <td>1</td>\n",
       "      <td>1</td>\n",
       "      <td>0</td>\n",
       "      <td>2</td>\n",
       "      <td>1</td>\n",
       "      <td>28.68</td>\n",
       "      <td>2.0</td>\n",
       "      <td>1</td>\n",
       "      <td>942</td>\n",
       "    </tr>\n",
       "    <tr>\n",
       "      <th>1</th>\n",
       "      <td>0009655768c64bdeb2e877511632db8f</td>\n",
       "      <td>33</td>\n",
       "      <td>M</td>\n",
       "      <td>72000.0</td>\n",
       "      <td>3f207df678b143eea3cee63160fa8bed</td>\n",
       "      <td>0</td>\n",
       "      <td>0</td>\n",
       "      <td>1</td>\n",
       "      <td>14.0</td>\n",
       "      <td>4</td>\n",
       "      <td>...</td>\n",
       "      <td>0</td>\n",
       "      <td>1</td>\n",
       "      <td>1</td>\n",
       "      <td>1</td>\n",
       "      <td>0</td>\n",
       "      <td>0</td>\n",
       "      <td>0.00</td>\n",
       "      <td>0.0</td>\n",
       "      <td>0</td>\n",
       "      <td>942</td>\n",
       "    </tr>\n",
       "    <tr>\n",
       "      <th>2</th>\n",
       "      <td>0009655768c64bdeb2e877511632db8f</td>\n",
       "      <td>33</td>\n",
       "      <td>M</td>\n",
       "      <td>72000.0</td>\n",
       "      <td>5a8bc65990b245e5a138643cd4eb9837</td>\n",
       "      <td>0</td>\n",
       "      <td>0</td>\n",
       "      <td>1</td>\n",
       "      <td>7.0</td>\n",
       "      <td>3</td>\n",
       "      <td>...</td>\n",
       "      <td>1</td>\n",
       "      <td>0</td>\n",
       "      <td>1</td>\n",
       "      <td>1</td>\n",
       "      <td>1</td>\n",
       "      <td>0</td>\n",
       "      <td>8.57</td>\n",
       "      <td>0.0</td>\n",
       "      <td>0</td>\n",
       "      <td>942</td>\n",
       "    </tr>\n",
       "    <tr>\n",
       "      <th>3</th>\n",
       "      <td>0009655768c64bdeb2e877511632db8f</td>\n",
       "      <td>33</td>\n",
       "      <td>M</td>\n",
       "      <td>72000.0</td>\n",
       "      <td>f19421c1d4aa40978ebb69ca19b0e20d</td>\n",
       "      <td>1</td>\n",
       "      <td>0</td>\n",
       "      <td>0</td>\n",
       "      <td>17.0</td>\n",
       "      <td>5</td>\n",
       "      <td>...</td>\n",
       "      <td>1</td>\n",
       "      <td>1</td>\n",
       "      <td>1</td>\n",
       "      <td>1</td>\n",
       "      <td>1</td>\n",
       "      <td>1</td>\n",
       "      <td>22.16</td>\n",
       "      <td>5.0</td>\n",
       "      <td>0</td>\n",
       "      <td>942</td>\n",
       "    </tr>\n",
       "    <tr>\n",
       "      <th>4</th>\n",
       "      <td>0009655768c64bdeb2e877511632db8f</td>\n",
       "      <td>33</td>\n",
       "      <td>M</td>\n",
       "      <td>72000.0</td>\n",
       "      <td>fafdcd668e3743c1bb461111dcafc2a4</td>\n",
       "      <td>0</td>\n",
       "      <td>1</td>\n",
       "      <td>0</td>\n",
       "      <td>21.0</td>\n",
       "      <td>10</td>\n",
       "      <td>...</td>\n",
       "      <td>1</td>\n",
       "      <td>1</td>\n",
       "      <td>1</td>\n",
       "      <td>1</td>\n",
       "      <td>1</td>\n",
       "      <td>1</td>\n",
       "      <td>13.56</td>\n",
       "      <td>2.0</td>\n",
       "      <td>1</td>\n",
       "      <td>942</td>\n",
       "    </tr>\n",
       "  </tbody>\n",
       "</table>\n",
       "<p>5 rows × 24 columns</p>\n",
       "</div>"
      ],
      "text/plain": [
       "                        Customer_id  age gender   income  \\\n",
       "0  0009655768c64bdeb2e877511632db8f   33      M  72000.0   \n",
       "1  0009655768c64bdeb2e877511632db8f   33      M  72000.0   \n",
       "2  0009655768c64bdeb2e877511632db8f   33      M  72000.0   \n",
       "3  0009655768c64bdeb2e877511632db8f   33      M  72000.0   \n",
       "4  0009655768c64bdeb2e877511632db8f   33      M  72000.0   \n",
       "\n",
       "                           offer_id  bogo  discount  informational  \\\n",
       "0  2906b810c7d4411798c6938adc9daaa5     0         1              0   \n",
       "1  3f207df678b143eea3cee63160fa8bed     0         0              1   \n",
       "2  5a8bc65990b245e5a138643cd4eb9837     0         0              1   \n",
       "3  f19421c1d4aa40978ebb69ca19b0e20d     1         0              0   \n",
       "4  fafdcd668e3743c1bb461111dcafc2a4     0         1              0   \n",
       "\n",
       "   offer_starttime  duration        ...          social  web  offer received  \\\n",
       "0             24.0         7        ...               0    1               1   \n",
       "1             14.0         4        ...               0    1               1   \n",
       "2              7.0         3        ...               1    0               1   \n",
       "3             17.0         5        ...               1    1               1   \n",
       "4             21.0        10        ...               1    1               1   \n",
       "\n",
       "   offer viewed  transaction  offer completed  amount  reward_received  \\\n",
       "0             0            2                1   28.68              2.0   \n",
       "1             1            0                0    0.00              0.0   \n",
       "2             1            1                0    8.57              0.0   \n",
       "3             1            1                1   22.16              5.0   \n",
       "4             1            1                1   13.56              2.0   \n",
       "\n",
       "   offer_successful  membership_tenure  \n",
       "0                 1                942  \n",
       "1                 0                942  \n",
       "2                 0                942  \n",
       "3                 0                942  \n",
       "4                 1                942  \n",
       "\n",
       "[5 rows x 24 columns]"
      ]
     },
     "execution_count": 84,
     "metadata": {},
     "output_type": "execute_result"
    }
   ],
   "source": [
    "new_dataset.head()"
   ]
  },
  {
   "cell_type": "code",
   "execution_count": 85,
   "metadata": {},
   "outputs": [
    {
     "data": {
      "text/html": [
       "<div>\n",
       "<style scoped>\n",
       "    .dataframe tbody tr th:only-of-type {\n",
       "        vertical-align: middle;\n",
       "    }\n",
       "\n",
       "    .dataframe tbody tr th {\n",
       "        vertical-align: top;\n",
       "    }\n",
       "\n",
       "    .dataframe thead th {\n",
       "        text-align: right;\n",
       "    }\n",
       "</style>\n",
       "<table border=\"1\" class=\"dataframe\">\n",
       "  <thead>\n",
       "    <tr style=\"text-align: right;\">\n",
       "      <th></th>\n",
       "      <th></th>\n",
       "      <th>Customer Count</th>\n",
       "      <th>Average Age</th>\n",
       "      <th>Average Income</th>\n",
       "      <th>membership_tenure</th>\n",
       "    </tr>\n",
       "    <tr>\n",
       "      <th>gender</th>\n",
       "      <th>offer_successful</th>\n",
       "      <th></th>\n",
       "      <th></th>\n",
       "      <th></th>\n",
       "      <th></th>\n",
       "    </tr>\n",
       "  </thead>\n",
       "  <tbody>\n",
       "    <tr>\n",
       "      <th rowspan=\"2\" valign=\"top\">F</th>\n",
       "      <th>0</th>\n",
       "      <td>14817</td>\n",
       "      <td>58.0</td>\n",
       "      <td>71880.0</td>\n",
       "      <td>967.0</td>\n",
       "    </tr>\n",
       "    <tr>\n",
       "      <th>1</th>\n",
       "      <td>3789</td>\n",
       "      <td>56.0</td>\n",
       "      <td>68595.0</td>\n",
       "      <td>1090.0</td>\n",
       "    </tr>\n",
       "    <tr>\n",
       "      <th rowspan=\"2\" valign=\"top\">M</th>\n",
       "      <th>0</th>\n",
       "      <td>21093</td>\n",
       "      <td>52.0</td>\n",
       "      <td>61335.0</td>\n",
       "      <td>976.0</td>\n",
       "    </tr>\n",
       "    <tr>\n",
       "      <th>1</th>\n",
       "      <td>4713</td>\n",
       "      <td>52.0</td>\n",
       "      <td>61239.0</td>\n",
       "      <td>1159.0</td>\n",
       "    </tr>\n",
       "  </tbody>\n",
       "</table>\n",
       "</div>"
      ],
      "text/plain": [
       "                         Customer Count  Average Age  Average Income  \\\n",
       "gender offer_successful                                                \n",
       "F      0                          14817         58.0         71880.0   \n",
       "       1                           3789         56.0         68595.0   \n",
       "M      0                          21093         52.0         61335.0   \n",
       "       1                           4713         52.0         61239.0   \n",
       "\n",
       "                         membership_tenure  \n",
       "gender offer_successful                     \n",
       "F      0                             967.0  \n",
       "       1                            1090.0  \n",
       "M      0                             976.0  \n",
       "       1                            1159.0  "
      ]
     },
     "execution_count": 85,
     "metadata": {},
     "output_type": "execute_result"
    }
   ],
   "source": [
    "new_dataset.groupby(['gender','offer_successful']).agg({'Customer_id':'count','age':'mean','income':'mean','membership_tenure':'mean'}).round(0).rename(columns={'Customer_id':'Customer Count','age':'Average Age','income':'Average Income'})"
   ]
  },
  {
   "cell_type": "markdown",
   "metadata": {},
   "source": [
    "From the above cell we can see the following trends:\n",
    "\n",
    "- Offer Successful (value = 1)\n",
    "    - Almost 20% of the offers were successful. i.e these records have all the events necessary for it be called successful (offer received -> offer viewed -> transaction -> offer completed - all within offer validity period). \n",
    "    - Out of this 45% of the transcations were from female customers and rest 55% from male customers\n",
    "    - The average age and income of female customers is 56 and 68k respectively, and have membership tenure of more than 1000 days\n",
    "    - The average age and income of male customers is 52 and 61k, and have membership tenure of more than 1100 days\n",
    "    \n",
    "- Offer Unsuccessful (value = 0)\n",
    "    - Almost 80% of the offers were unsuccessful. i.e these records did not have all the events necessary for it be called successful (offer received -> offer viewed -> transaction -> offer completed). They fell into one of the following categories\n",
    "        - They viewed and completed the offer but not within offer validity period\n",
    "        - They did not view the offer but completed it (unaware of the offer)\n",
    "        - They viewed the offer but didn't complete it\n",
    "        - They received the offer but didn't atke any further action\n",
    "    \n",
    "    - Out of this 41% of the transcations were from female customers and rest 59% from male customers\n",
    "    - The average age and income of female customers is 58 and 71k respectively, and have membership tenure of more than 930 days\n",
    "    - The average age and income of male customers is 52 and 61k, and have membership tenure of more than 940 days\n",
    " \n",
    "- General observation\n",
    "     - There were more offers received by male customers (58%) than female (42%). \n",
    "     - Out of all offers received by male customers only 18% were successful, and for feamles 20% were successful."
   ]
  },
  {
   "cell_type": "markdown",
   "metadata": {},
   "source": [
    "I would now like to see if there is any change in the trend if the dataset is separated by offer type."
   ]
  },
  {
   "cell_type": "code",
   "execution_count": 86,
   "metadata": {},
   "outputs": [],
   "source": [
    "bogo_data = new_dataset[new_dataset['bogo'] ==1]\n",
    "discount_data = new_dataset[new_dataset['discount'] ==1]\n",
    "info_data = new_dataset[new_dataset['informational'] ==1]"
   ]
  },
  {
   "cell_type": "code",
   "execution_count": 87,
   "metadata": {},
   "outputs": [
    {
     "data": {
      "text/html": [
       "<div>\n",
       "<style scoped>\n",
       "    .dataframe tbody tr th:only-of-type {\n",
       "        vertical-align: middle;\n",
       "    }\n",
       "\n",
       "    .dataframe tbody tr th {\n",
       "        vertical-align: top;\n",
       "    }\n",
       "\n",
       "    .dataframe thead th {\n",
       "        text-align: right;\n",
       "    }\n",
       "</style>\n",
       "<table border=\"1\" class=\"dataframe\">\n",
       "  <thead>\n",
       "    <tr style=\"text-align: right;\">\n",
       "      <th></th>\n",
       "      <th></th>\n",
       "      <th>Customer Count</th>\n",
       "      <th>Average Age</th>\n",
       "      <th>Average Income</th>\n",
       "      <th>membership_tenure</th>\n",
       "    </tr>\n",
       "    <tr>\n",
       "      <th>gender</th>\n",
       "      <th>offer_successful</th>\n",
       "      <th></th>\n",
       "      <th></th>\n",
       "      <th></th>\n",
       "      <th></th>\n",
       "    </tr>\n",
       "  </thead>\n",
       "  <tbody>\n",
       "    <tr>\n",
       "      <th rowspan=\"2\" valign=\"top\">F</th>\n",
       "      <th>0</th>\n",
       "      <td>5782</td>\n",
       "      <td>58.0</td>\n",
       "      <td>71704.0</td>\n",
       "      <td>965.0</td>\n",
       "    </tr>\n",
       "    <tr>\n",
       "      <th>1</th>\n",
       "      <td>1634</td>\n",
       "      <td>56.0</td>\n",
       "      <td>68770.0</td>\n",
       "      <td>1093.0</td>\n",
       "    </tr>\n",
       "    <tr>\n",
       "      <th rowspan=\"2\" valign=\"top\">M</th>\n",
       "      <th>0</th>\n",
       "      <td>8482</td>\n",
       "      <td>52.0</td>\n",
       "      <td>61042.0</td>\n",
       "      <td>977.0</td>\n",
       "    </tr>\n",
       "    <tr>\n",
       "      <th>1</th>\n",
       "      <td>1877</td>\n",
       "      <td>52.0</td>\n",
       "      <td>62054.0</td>\n",
       "      <td>1149.0</td>\n",
       "    </tr>\n",
       "  </tbody>\n",
       "</table>\n",
       "</div>"
      ],
      "text/plain": [
       "                         Customer Count  Average Age  Average Income  \\\n",
       "gender offer_successful                                                \n",
       "F      0                           5782         58.0         71704.0   \n",
       "       1                           1634         56.0         68770.0   \n",
       "M      0                           8482         52.0         61042.0   \n",
       "       1                           1877         52.0         62054.0   \n",
       "\n",
       "                         membership_tenure  \n",
       "gender offer_successful                     \n",
       "F      0                             965.0  \n",
       "       1                            1093.0  \n",
       "M      0                             977.0  \n",
       "       1                            1149.0  "
      ]
     },
     "execution_count": 87,
     "metadata": {},
     "output_type": "execute_result"
    }
   ],
   "source": [
    "bogo_data.groupby(['gender','offer_successful']).agg({'Customer_id':'count','age':'mean','income':'mean','membership_tenure':'mean'}).round(0).rename(columns={'Customer_id':'Customer Count','age':'Average Age','income':'Average Income'})"
   ]
  },
  {
   "cell_type": "code",
   "execution_count": 88,
   "metadata": {},
   "outputs": [
    {
     "data": {
      "text/html": [
       "<div>\n",
       "<style scoped>\n",
       "    .dataframe tbody tr th:only-of-type {\n",
       "        vertical-align: middle;\n",
       "    }\n",
       "\n",
       "    .dataframe tbody tr th {\n",
       "        vertical-align: top;\n",
       "    }\n",
       "\n",
       "    .dataframe thead th {\n",
       "        text-align: right;\n",
       "    }\n",
       "</style>\n",
       "<table border=\"1\" class=\"dataframe\">\n",
       "  <thead>\n",
       "    <tr style=\"text-align: right;\">\n",
       "      <th></th>\n",
       "      <th></th>\n",
       "      <th>Customer Count</th>\n",
       "      <th>Average Age</th>\n",
       "      <th>Average Income</th>\n",
       "      <th>membership_tenure</th>\n",
       "    </tr>\n",
       "    <tr>\n",
       "      <th>gender</th>\n",
       "      <th>offer_successful</th>\n",
       "      <th></th>\n",
       "      <th></th>\n",
       "      <th></th>\n",
       "      <th></th>\n",
       "    </tr>\n",
       "  </thead>\n",
       "  <tbody>\n",
       "    <tr>\n",
       "      <th rowspan=\"2\" valign=\"top\">F</th>\n",
       "      <th>0</th>\n",
       "      <td>5812</td>\n",
       "      <td>58.0</td>\n",
       "      <td>71876.0</td>\n",
       "      <td>965.0</td>\n",
       "    </tr>\n",
       "    <tr>\n",
       "      <th>1</th>\n",
       "      <td>1629</td>\n",
       "      <td>56.0</td>\n",
       "      <td>68824.0</td>\n",
       "      <td>1096.0</td>\n",
       "    </tr>\n",
       "    <tr>\n",
       "      <th rowspan=\"2\" valign=\"top\">M</th>\n",
       "      <th>0</th>\n",
       "      <td>8278</td>\n",
       "      <td>52.0</td>\n",
       "      <td>61463.0</td>\n",
       "      <td>970.0</td>\n",
       "    </tr>\n",
       "    <tr>\n",
       "      <th>1</th>\n",
       "      <td>2049</td>\n",
       "      <td>52.0</td>\n",
       "      <td>61639.0</td>\n",
       "      <td>1166.0</td>\n",
       "    </tr>\n",
       "  </tbody>\n",
       "</table>\n",
       "</div>"
      ],
      "text/plain": [
       "                         Customer Count  Average Age  Average Income  \\\n",
       "gender offer_successful                                                \n",
       "F      0                           5812         58.0         71876.0   \n",
       "       1                           1629         56.0         68824.0   \n",
       "M      0                           8278         52.0         61463.0   \n",
       "       1                           2049         52.0         61639.0   \n",
       "\n",
       "                         membership_tenure  \n",
       "gender offer_successful                     \n",
       "F      0                             965.0  \n",
       "       1                            1096.0  \n",
       "M      0                             970.0  \n",
       "       1                            1166.0  "
      ]
     },
     "execution_count": 88,
     "metadata": {},
     "output_type": "execute_result"
    }
   ],
   "source": [
    "discount_data.groupby(['gender','offer_successful']).agg({'Customer_id':'count','age':'mean','income':'mean','membership_tenure':'mean'}).round(0).rename(columns={'Customer_id':'Customer Count','age':'Average Age','income':'Average Income'})"
   ]
  },
  {
   "cell_type": "markdown",
   "metadata": {},
   "source": [
    "Looks like majority of the records fell into offer types bogo or discount. From above two cells, we can see that they have very similar trend, and mirrors with the trends of entire dataset (all offers combined)\n",
    "\n",
    "- Overall 20% of the offers received were successful \n",
    "- More offers received by males (58%) than females (42%)\n",
    "- 22% of offers received by females were successful while for males it was only 18-20%\n"
   ]
  },
  {
   "cell_type": "code",
   "execution_count": 89,
   "metadata": {
    "scrolled": true
   },
   "outputs": [
    {
     "data": {
      "text/html": [
       "<div>\n",
       "<style scoped>\n",
       "    .dataframe tbody tr th:only-of-type {\n",
       "        vertical-align: middle;\n",
       "    }\n",
       "\n",
       "    .dataframe tbody tr th {\n",
       "        vertical-align: top;\n",
       "    }\n",
       "\n",
       "    .dataframe thead th {\n",
       "        text-align: right;\n",
       "    }\n",
       "</style>\n",
       "<table border=\"1\" class=\"dataframe\">\n",
       "  <thead>\n",
       "    <tr style=\"text-align: right;\">\n",
       "      <th></th>\n",
       "      <th></th>\n",
       "      <th>Customer Count</th>\n",
       "      <th>Average Age</th>\n",
       "      <th>Average Income</th>\n",
       "      <th>membership_tenure</th>\n",
       "    </tr>\n",
       "    <tr>\n",
       "      <th>gender</th>\n",
       "      <th>offer_successful</th>\n",
       "      <th></th>\n",
       "      <th></th>\n",
       "      <th></th>\n",
       "      <th></th>\n",
       "    </tr>\n",
       "  </thead>\n",
       "  <tbody>\n",
       "    <tr>\n",
       "      <th rowspan=\"2\" valign=\"top\">F</th>\n",
       "      <th>0</th>\n",
       "      <td>3223</td>\n",
       "      <td>57.0</td>\n",
       "      <td>72201.0</td>\n",
       "      <td>977.0</td>\n",
       "    </tr>\n",
       "    <tr>\n",
       "      <th>1</th>\n",
       "      <td>526</td>\n",
       "      <td>57.0</td>\n",
       "      <td>67344.0</td>\n",
       "      <td>1058.0</td>\n",
       "    </tr>\n",
       "    <tr>\n",
       "      <th rowspan=\"2\" valign=\"top\">M</th>\n",
       "      <th>0</th>\n",
       "      <td>4333</td>\n",
       "      <td>53.0</td>\n",
       "      <td>61665.0</td>\n",
       "      <td>984.0</td>\n",
       "    </tr>\n",
       "    <tr>\n",
       "      <th>1</th>\n",
       "      <td>787</td>\n",
       "      <td>51.0</td>\n",
       "      <td>58254.0</td>\n",
       "      <td>1166.0</td>\n",
       "    </tr>\n",
       "  </tbody>\n",
       "</table>\n",
       "</div>"
      ],
      "text/plain": [
       "                         Customer Count  Average Age  Average Income  \\\n",
       "gender offer_successful                                                \n",
       "F      0                           3223         57.0         72201.0   \n",
       "       1                            526         57.0         67344.0   \n",
       "M      0                           4333         53.0         61665.0   \n",
       "       1                            787         51.0         58254.0   \n",
       "\n",
       "                         membership_tenure  \n",
       "gender offer_successful                     \n",
       "F      0                             977.0  \n",
       "       1                            1058.0  \n",
       "M      0                             984.0  \n",
       "       1                            1166.0  "
      ]
     },
     "execution_count": 89,
     "metadata": {},
     "output_type": "execute_result"
    }
   ],
   "source": [
    "info_data.groupby(['gender','offer_successful']).agg({'Customer_id':'count','age':'mean','income':'mean','membership_tenure':'mean'}).round(0).rename(columns={'Customer_id':'Customer Count','age':'Average Age','income':'Average Income'})"
   ]
  },
  {
   "cell_type": "markdown",
   "metadata": {},
   "source": [
    "For informational offers\n",
    "\n",
    "- Overall almost 15% of the offers were successful (people successfully viewed those offers and made a transaction within validity period)\n",
    "- More offers received by males (58%) than females (42%)\n",
    "- 14% of offers received by females were successful while for males it was 15%\n",
    "- Slightly lower success rate with informational offers compared to bogo or discount maybe attributable to the lack of reward on informational offers"
   ]
  },
  {
   "cell_type": "markdown",
   "metadata": {},
   "source": [
    "## Data Modeling"
   ]
  },
  {
   "cell_type": "markdown",
   "metadata": {},
   "source": [
    "To begin data modeling, we will have to preprocess certain features and make sure dataset is fit for modeling. We will begin with splitting data into features and target label, then apply logarithimic transformation on data so that the very large and very small values (skewed data) do not negatively affect the performance of a learning algorithm. Once we are done with this, we will perform scaling on numerical features. This will ensure that each feature is treated equally when applying supervised learners. \n",
    "\n",
    "Since learning algorithms require all inputs to be numeric, we will have to convert any categorical variables to numeric features using one-hot encoding. Once this done, the adta is ready for use and we can split the data into training and testing sets. I will be choosing 80% of daat for training and 20% for testing. "
   ]
  },
  {
   "cell_type": "markdown",
   "metadata": {},
   "source": [
    "### Shuffle and split data"
   ]
  },
  {
   "cell_type": "code",
   "execution_count": 90,
   "metadata": {},
   "outputs": [],
   "source": [
    "# Split the data into features and target label\n",
    "def features_and_target(data):\n",
    "    #features - the features in the dataset that we wil use to predict our target. Here it is named as other_features\n",
    "    #target - the column or feature we are trying to predict use ML model. Our target here is to predict is offer's success rate\n",
    "    offer_successful = data['offer_successful']\n",
    "    other_features = data.drop(['offer_successful','Customer_id','offer_id','amount'], axis = 1)\n",
    "    # Log-transform the skewed features\n",
    "    skewed = ['income']\n",
    "    features_log_transformed = pd.DataFrame(data = other_features)\n",
    "    features_log_transformed[skewed] = other_features[skewed].apply(lambda x: np.log(x + 1))\n",
    "    # Initialize a scaler, then apply it to the features\n",
    "    scaler = MinMaxScaler() # default=(0, 1)\n",
    "    numerical = ['age', 'income', 'offer_starttime', 'duration', 'difficulty','reward_received','totalreward']\n",
    "\n",
    "    features_log_minmax_transform = pd.DataFrame(data = features_log_transformed)\n",
    "    features_log_minmax_transform[numerical] = scaler.fit_transform(features_log_transformed[numerical])\n",
    "    features_final = pd.get_dummies(features_log_minmax_transform)\n",
    "    \n",
    "    encoded = list(features_final.columns)\n",
    "    print (encoded)\n",
    "    # Split the 'features' and 'income' data into training and testing sets\n",
    "    X_train, X_test, y_train, y_test = train_test_split(features_final, \n",
    "                                                    offer_successful, \n",
    "                                                    test_size = 0.2, \n",
    "                                                    random_state = 0)\n",
    "    # Show the results of the split\n",
    "    print(\"Training set has {} samples.\".format(X_train.shape[0]))\n",
    "    print(\"Testing set has {} samples.\".format(X_test.shape[0]))\n",
    "    \n",
    "    return X_train, X_test, y_train, y_test"
   ]
  },
  {
   "cell_type": "markdown",
   "metadata": {},
   "source": [
    "### Creating training and predicting pipeline\n",
    "\n",
    "Training and predicting pipeline allows us to quickly and effectively train models using various sizes of training data and perform predictions on the testing data. I will be writing a train_predict function that returns all my results which includes accuracy score and fbeta score for both training and testing sets. I will be choosing a beta score of 0.1 for this scenario.\n"
   ]
  },
  {
   "cell_type": "code",
   "execution_count": 91,
   "metadata": {},
   "outputs": [],
   "source": [
    "def train_predict(learner, sample_size, X_train, y_train, X_test, y_test): \n",
    "    '''\n",
    "    inputs:\n",
    "       - learner: the learning algorithm to be trained and predicted on\n",
    "       - sample_size: the size of samples (number) to be drawn from training set\n",
    "       - X_train: features training set\n",
    "       - y_train: income training set\n",
    "       - X_test: features testing set\n",
    "       - y_test: income testing set\n",
    "    '''\n",
    "    \n",
    "    results = {}\n",
    "    \n",
    "    # Fit the learner to the training data using slicing with 'sample_size' using .fit(training_features[:], training_labels[:])\n",
    "    start = time() # Get start time\n",
    "    sample_size = int(sample_size)\n",
    "    learner = learner.fit(X_train[:sample_size], y_train[:sample_size])\n",
    "    end = time() # Get end time\n",
    "    \n",
    "    # Calculate the training time\n",
    "    results['train_time'] = end - start\n",
    "        \n",
    "    # Get the predictions on the test set(X_test),\n",
    "    #       then get predictions on the first 300 training samples(X_train) using .predict()\n",
    "    start = time() # Get start time\n",
    "    predictions_test = learner.predict(X_test)\n",
    "    predictions_train = learner.predict(X_train[:300])\n",
    "    end = time() # Get end time\n",
    "    \n",
    "    # Calculate the total prediction time\n",
    "    results['pred_time'] = end - start\n",
    "            \n",
    "    # Compute accuracy on the first 300 training samples which is y_train[:300]\n",
    "    results['acc_train'] = accuracy_score(y_train[:300],predictions_train)\n",
    "        \n",
    "    # Compute accuracy on test set using accuracy_score()\n",
    "    results['acc_test'] = accuracy_score(y_test, predictions_test)\n",
    "    \n",
    "    #Compute F-score on the the first 300 training samples using fbeta_score()\n",
    "    from sklearn.metrics import fbeta_score\n",
    "    results['f_train'] = fbeta_score(y_train[:300],predictions_train,0.1)\n",
    "        \n",
    "    #Compute F-score on the test set which is y_test\n",
    "    results['f_test'] = fbeta_score(y_test, predictions_test,0.1)\n",
    "       \n",
    "    # Success\n",
    "    print(\"{} trained on {} samples.\".format(learner.__class__.__name__, sample_size))\n",
    "        \n",
    "    # Return the results\n",
    "    return results"
   ]
  },
  {
   "cell_type": "markdown",
   "metadata": {},
   "source": [
    "## Evaluating Model Performance"
   ]
  },
  {
   "cell_type": "markdown",
   "metadata": {},
   "source": [
    "### Metrics\n",
    "\n",
    "** Accuracy ** measures how often the classifier makes the correct prediction. It’s the ratio of the number of correct predictions to the total number of predictions (the number of test data points).\n",
    "\n",
    "** Precision ** tells us what proportion of messages we classified as spam, actually were spam. It is a ratio of true positives(words classified as spam, and which are actually spam) to all positives(all words classified as spam, irrespective of whether that was the correct classificatio), in other words it is the ratio of\n",
    "\n",
    "[True Positives/(True Positives + False Positives)]\n",
    "\n",
    "** Recall(sensitivity)** tells us what proportion of messages that actually were spam were classified by us as spam. It is a ratio of true positives(words classified as spam, and which are actually spam) to all the words that were actually spam, in other words it is the ratio of\n",
    "\n",
    "[True Positives/(True Positives + False Negatives)]\n",
    "\n",
    "Since for this situation we want the model to precisely predict if an offer will be successful or not than the ability to recall, we will use F scores, which is weighted average of the precision and recall. \n",
    "\n",
    "$$ F_{\\beta} = (1 + \\beta^2) \\cdot \\frac{precision \\cdot recall}{\\left( \\beta^2 \\cdot precision \\right) + recall} $$\n",
    "\n"
   ]
  },
  {
   "cell_type": "markdown",
   "metadata": {},
   "source": [
    "## Combined Data (all offers combined) Model"
   ]
  },
  {
   "cell_type": "code",
   "execution_count": 92,
   "metadata": {},
   "outputs": [
    {
     "name": "stdout",
     "output_type": "stream",
     "text": [
      "['age', 'income', 'bogo', 'discount', 'informational', 'offer_starttime', 'duration', 'difficulty', 'totalreward', 'email', 'mobile', 'social', 'web', 'offer received', 'offer viewed', 'transaction', 'offer completed', 'reward_received', 'membership_tenure', 'gender_F', 'gender_M']\n",
      "Training set has 35529 samples.\n",
      "Testing set has 8883 samples.\n"
     ]
    }
   ],
   "source": [
    "X_train, X_test, y_train, y_test = features_and_target(new_dataset)"
   ]
  },
  {
   "cell_type": "markdown",
   "metadata": {},
   "source": [
    "### Naive Predictor Performance\n",
    "Before proceeding with other algorithms, I want to evaluate the performance using Naive Predictor.\n",
    "\n",
    "#### Naive Predictor Performace\n",
    "* Naive predictor would always assume that an offer is successful. It would be interesting to see the model's accuracy and F-score on this data using naive predictor. \n",
    "* In this model there will be no True Negatives(TN) or False Negatives(FN) as we are not making any negative('0' value) predictions. Therefore our Accuracy in this case becomes the same as our Precision(True Positives/(True Positives(TP) + False Positives(FP))) as every prediction that we have made with value '1' that should have '0' becomes a False Positive; therefore our denominator in this case is the total number of records we have in total. \n",
    "* Our Recall score(True Positives/(True Positives (TP) + False Negatives(FN))) in this setting becomes 1 as we have no False Negatives."
   ]
  },
  {
   "cell_type": "code",
   "execution_count": 93,
   "metadata": {},
   "outputs": [
    {
     "name": "stdout",
     "output_type": "stream",
     "text": [
      "8502\n",
      "35910\n",
      "Naive Predictor: [Accuracy score: 0.1914, F-score: 0.2284, Precision: 0.1914, Recall: 1.0000 ]\n"
     ]
    }
   ],
   "source": [
    "# Naive Predictor\n",
    "TP = np.sum(new_dataset['offer_successful'])\n",
    "print(TP)\n",
    "\n",
    "FP = new_dataset['offer_successful'].count() - TP\n",
    "print(FP)\n",
    "\n",
    "TN = 0\n",
    "FN = 0\n",
    "\n",
    "# Calculate accuracy, precision and recall\n",
    "accuracy = TP/ (TP+FP+TN+FN)\n",
    "recall = TP/(TP+FN)\n",
    "precision = TP/(TP+FP)\n",
    "\n",
    "#Calculate F-score using the formula above for beta = 0.5 and correct values for precision and recall.\n",
    "fscore = (1+(0.5**2))*(precision *recall)/(((0.5**2)*precision)+ recall)\n",
    "\n",
    "# Print the results \n",
    "print(\"Naive Predictor: [Accuracy score: {:.4f}, F-score: {:.4f}, Precision: {:.4f}, Recall: {:.4f} ]\".format(accuracy, fscore, precision, recall))"
   ]
  },
  {
   "cell_type": "markdown",
   "metadata": {},
   "source": [
    "Now, we will use other machine learning algorithms to determine which is best at modleing the offer data. Since this is a classification scenario, the three models I chose are RandomForest, AdaBoost, and GradientBoosting. \n",
    "\n",
    "#### Other Models\n",
    "Model 1 - RandomForestClassifier() \n",
    "- Real world application: Any classificatiion problems/scenarios, for example classifying email as spam, identifying the best app to download or a fraudulent activity, predicting disease, remote sensing.\n",
    "- Strengths: it takes average of all predictions (ensemble of trees based on random set of data), therefore no overfitting. Best used when the data is large and versatile to get more accurate predictions.\n",
    "- Weaknesses: Time consuming as the model has to construct multiple decsision trees and then vote on it. might not be best in situations where run-time performance is important.\n",
    "- Suitable model for the offer data as we are focussed on identifying the potential customers (classification scenario) and large data set.\n",
    "\n",
    "Model 2 - AdaBoostClassifier() \n",
    "- Real world application: Any classificatiion problems/scenarios, for example classifying email as spam, identifying the best app to download or a fraudulent activity, predicting diseases, face recognition.\n",
    "- Strengths: converts all weak learners to strong ones by assigning higher weights so the misclassified data gets correctly classified on next itreration. Minimum error, doesn't overfit, and high accuracy or predictive power. \n",
    "- Weaknesses: sensistive to noisy data, and outliers(tries to fit every point in the model) affecting model's performance\n",
    "- Relativeley large data set. Since the goal of the project is to identify if an offer will be succesful or not; a binary classification scenario,  adaboost model will perform really well. \n",
    "    \n",
    "Model 3 - GradientBoostingClassifier() \n",
    "- Real world application: Any classificatiion problems/scenarios, for example classifying email as spam, identifying the best app to download or a fraudulent activity, predicting diseases, classifying credit defaults.\n",
    "- Strengths: High predictive power, robustness to outliers, performs well with heterogenous data\n",
    "- Weaknesses: Scalability.\n",
    "- Since the focus of the project is to predict wth higher accuracy and also the data has many features gradient boosting will yield better results "
   ]
  },
  {
   "cell_type": "markdown",
   "metadata": {},
   "source": [
    "### Impelmentation - Initial Model Evaluation"
   ]
  },
  {
   "cell_type": "code",
   "execution_count": 94,
   "metadata": {
    "scrolled": true
   },
   "outputs": [
    {
     "name": "stdout",
     "output_type": "stream",
     "text": [
      "RandomForestClassifier trained on 355 samples.\n",
      "RandomForestClassifier trained on 3552 samples.\n",
      "RandomForestClassifier trained on 35529 samples.\n",
      "AdaBoostClassifier trained on 355 samples.\n",
      "AdaBoostClassifier trained on 3552 samples.\n",
      "AdaBoostClassifier trained on 35529 samples.\n",
      "GradientBoostingClassifier trained on 355 samples.\n",
      "GradientBoostingClassifier trained on 3552 samples.\n",
      "GradientBoostingClassifier trained on 35529 samples.\n"
     ]
    },
    {
     "data": {
      "image/png": "[encoded data removed]",
      "text/plain": [
       "<matplotlib.figure.Figure at 0x7f899440e7f0>"
      ]
     },
     "metadata": {
      "needs_background": "light"
     },
     "output_type": "display_data"
    }
   ],
   "source": [
    "# Initialize the three models\n",
    "clf_A = RandomForestClassifier(random_state = 10)\n",
    "clf_B = AdaBoostClassifier(random_state = 10)\n",
    "clf_C = GradientBoostingClassifier(random_state = 10)\n",
    "\n",
    "\n",
    "\n",
    "# Calculate the number of samples for 1%, 10%, and 100% of the training data\n",
    "samples_100 = int(len(y_train))\n",
    "samples_10 = int(samples_100 * 0.1)\n",
    "samples_1 = int(samples_100 * 0.01)\n",
    "\n",
    "# Collect results on the learners\n",
    "results = {}\n",
    "for clf in [clf_A, clf_B, clf_C]:\n",
    "    clf_name = clf.__class__.__name__\n",
    "    results[clf_name] = {}\n",
    "    for i, samples in enumerate([samples_1, samples_10, samples_100]):\n",
    "        results[clf_name][i] = \\\n",
    "        train_predict(clf, samples, X_train, y_train, X_test, y_test)\n",
    "\n",
    "# Run metrics visualization for the three supervised learning models chosen\n",
    "vs.evaluate(results, accuracy, fscore)"
   ]
  },
  {
   "cell_type": "markdown",
   "metadata": {},
   "source": [
    "Based on the results from above, the best model GradientBoostingClassifier due to the following factors:\n",
    "\n",
    "- Metrics - Fscore on testing set when 100% of training data is used is more or less same for AdaBoost and GradientBoosting models. \n",
    "- Predicting/training time was the shortest for GradientBoosting while it was longest for AdaBoost\n",
    "- Due to its high predictive power, it's robustness to outliers, ability to handle heterogenous data, and relatively small training time, GradientBoosting seems to be the best model to predict offer success rate."
   ]
  },
  {
   "cell_type": "markdown",
   "metadata": {},
   "source": [
    "### Choosing best model, and tuning parameters to improve results\n",
    "\n",
    "Here I chose GradientBoosting model. For parameters, I set n-estimators to 90, used make-scorer to create fbeta score (with $\\beta = 0.1$), performed grid search on the classifier, and fit the grid search object to the training data."
   ]
  },
  {
   "cell_type": "code",
   "execution_count": 95,
   "metadata": {},
   "outputs": [
    {
     "name": "stdout",
     "output_type": "stream",
     "text": [
      "Unoptimized model\n",
      "------\n",
      "Accuracy score on testing data: 0.8731\n",
      "F-score on testing data: 0.6992\n",
      "\n",
      "Optimized Model\n",
      "------\n",
      "Final accuracy score on the testing data: 0.8738\n",
      "Final F-score on the testing data: 0.7021\n"
     ]
    }
   ],
   "source": [
    "# Initialize the classifier\n",
    "clf = GradientBoostingClassifier(random_state=42)\n",
    "\n",
    "# Create the parameters list you wish to tune, using a dictionary if needed.\n",
    "parameters = {'n_estimators':[90]}\n",
    "\n",
    "# Make an fbeta_score scoring object using make_scorer()\n",
    "scorer = make_scorer(fbeta_score,beta = 0.1)\n",
    "\n",
    "# Perform grid search on the classifier using 'scorer' as the scoring method using GridSearchCV()\n",
    "grid_obj = GridSearchCV(clf, parameters, scoring=scorer)\n",
    "\n",
    "# Fit the grid search object to the training data and find the optimal parameters using fit()\n",
    "grid_fit = grid_obj.fit(X_train, y_train)\n",
    "\n",
    "# Get the estimator\n",
    "best_clf = grid_fit.best_estimator_\n",
    "\n",
    "# Make predictions using the unoptimized and model\n",
    "predictions = (clf.fit(X_train, y_train)).predict(X_test)\n",
    "best_predictions = best_clf.predict(X_test)\n",
    "\n",
    "# Report the before-and-afterscores\n",
    "print(\"Unoptimized model\\n------\")\n",
    "print(\"Accuracy score on testing data: {:.4f}\".format(accuracy_score(y_test, predictions)))\n",
    "print(\"F-score on testing data: {:.4f}\".format(fbeta_score(y_test, predictions, beta = 0.1)))\n",
    "print(\"\\nOptimized Model\\n------\")\n",
    "print(\"Final accuracy score on the testing data: {:.4f}\".format(accuracy_score(y_test, best_predictions)))\n",
    "print(\"Final F-score on the testing data: {:.4f}\".format(fbeta_score(y_test, best_predictions, beta = 0.1)))"
   ]
  },
  {
   "cell_type": "markdown",
   "metadata": {},
   "source": [
    "#### Final Model Evaluation\n",
    "\n",
    "- Optimized model's accuracy and fscores on testing data were 0.8738 and 0.7021 respectively.\n",
    "- Both accuracy and fscores were slightly higher for optimized model than unoptimized model for testing data.\n",
    "- Compared to the naive predictor benchmarks the accuracy score (0.1914) and fscore (0.2284) the optimized models scores were way higher indicating the model's high performance and efficiency. "
   ]
  },
  {
   "cell_type": "markdown",
   "metadata": {},
   "source": [
    "### Feature Importance"
   ]
  },
  {
   "cell_type": "markdown",
   "metadata": {},
   "source": [
    "This particular task allows us to identify the features with most predictive power in the dataset, i.e the features that have most impact on offer's success. My goal here is to identify top 10 features that affect the offer's success. "
   ]
  },
  {
   "cell_type": "code",
   "execution_count": 96,
   "metadata": {},
   "outputs": [
    {
     "data": {
      "image/png": "[encoded data removed]",
      "text/plain": [
       "<matplotlib.figure.Figure at 0x7f898e9a3e10>"
      ]
     },
     "metadata": {
      "needs_background": "light"
     },
     "output_type": "display_data"
    }
   ],
   "source": [
    "# Train the supervised model on the training set using .fit(X_train, y_train)\n",
    "model = GradientBoostingClassifier()\n",
    "model.fit(X_train,y_train)\n",
    "# Extract the feature importances using .feature_importances_ \n",
    "importances = model.feature_importances_\n",
    "\n",
    "# Plot\n",
    "vs.feature_plot(importances, X_train, y_train)"
   ]
  },
  {
   "cell_type": "markdown",
   "metadata": {},
   "source": [
    "From the above graph, we can see that for combined dataset, transaction is the most important feature. If a customer performs a transaction, then the offer is most likey to be successful. Apart from transaction customer features that have an impact on offer's success are customer's membership tenure, age, and income. "
   ]
  },
  {
   "cell_type": "markdown",
   "metadata": {},
   "source": [
    "## BOGO Model (includes only bogo offer data)"
   ]
  },
  {
   "cell_type": "code",
   "execution_count": 97,
   "metadata": {},
   "outputs": [
    {
     "name": "stdout",
     "output_type": "stream",
     "text": [
      "['age', 'income', 'bogo', 'discount', 'informational', 'offer_starttime', 'duration', 'difficulty', 'totalreward', 'email', 'mobile', 'social', 'web', 'offer received', 'offer viewed', 'transaction', 'offer completed', 'reward_received', 'membership_tenure', 'gender_F', 'gender_M']\n",
      "Training set has 14220 samples.\n",
      "Testing set has 3555 samples.\n"
     ]
    }
   ],
   "source": [
    "X_train, X_test, y_train, y_test = features_and_target(bogo_data)"
   ]
  },
  {
   "cell_type": "code",
   "execution_count": 98,
   "metadata": {},
   "outputs": [
    {
     "name": "stdout",
     "output_type": "stream",
     "text": [
      "RandomForestClassifier trained on 142 samples.\n",
      "RandomForestClassifier trained on 1422 samples.\n",
      "RandomForestClassifier trained on 14220 samples.\n",
      "AdaBoostClassifier trained on 142 samples.\n",
      "AdaBoostClassifier trained on 1422 samples.\n",
      "AdaBoostClassifier trained on 14220 samples.\n",
      "GradientBoostingClassifier trained on 142 samples.\n",
      "GradientBoostingClassifier trained on 1422 samples.\n",
      "GradientBoostingClassifier trained on 14220 samples.\n"
     ]
    },
    {
     "data": {
      "image/png": "[encoded data removed]",
      "text/plain": [
       "<matplotlib.figure.Figure at 0x7f899442ba20>"
      ]
     },
     "metadata": {
      "needs_background": "light"
     },
     "output_type": "display_data"
    }
   ],
   "source": [
    "# Initialize the three models\n",
    "clf_A = RandomForestClassifier(random_state = 10)\n",
    "clf_B = AdaBoostClassifier(random_state = 10)\n",
    "clf_C = GradientBoostingClassifier(random_state = 10)\n",
    "\n",
    "\n",
    "\n",
    "# Calculate the number of samples for 1%, 10%, and 100% of the training data\n",
    "samples_100 = int(len(y_train))\n",
    "samples_10 = int(samples_100 * 0.1)\n",
    "samples_1 = int(samples_100 * 0.01)\n",
    "\n",
    "# Collect results on the learners\n",
    "results = {}\n",
    "for clf in [clf_A, clf_B, clf_C]:\n",
    "    clf_name = clf.__class__.__name__\n",
    "    results[clf_name] = {}\n",
    "    for i, samples in enumerate([samples_1, samples_10, samples_100]):\n",
    "        results[clf_name][i] = \\\n",
    "        train_predict(clf, samples, X_train, y_train, X_test, y_test)\n",
    "\n",
    "# Run metrics visualization for the three supervised learning models chosen\n",
    "vs.evaluate(results, accuracy, fscore)"
   ]
  },
  {
   "cell_type": "code",
   "execution_count": 99,
   "metadata": {},
   "outputs": [
    {
     "name": "stdout",
     "output_type": "stream",
     "text": [
      "Unoptimized model\n",
      "------\n",
      "Accuracy score on testing data: 0.8599\n",
      "F-score on testing data: 0.6806\n",
      "\n",
      "Optimized Model\n",
      "------\n",
      "Final accuracy score on the testing data: 0.8619\n",
      "Final F-score on the testing data: 0.6888\n"
     ]
    }
   ],
   "source": [
    "# Initialize the classifier\n",
    "clf = GradientBoostingClassifier(random_state=10)\n",
    "\n",
    "# Create the parameters list you wish to tune, using a dictionary if needed.\n",
    "parameters = {'n_estimators':[80]}\n",
    "\n",
    "# Make an fbeta_score scoring object using make_scorer()\n",
    "scorer = make_scorer(fbeta_score,beta = 0.1)\n",
    "\n",
    "# Perform grid search on the classifier using 'scorer' as the scoring method using GridSearchCV()\n",
    "grid_obj = GridSearchCV(clf, parameters, scoring=scorer)\n",
    "\n",
    "# Fit the grid search object to the training data and find the optimal parameters using fit()\n",
    "grid_fit = grid_obj.fit(X_train, y_train)\n",
    "\n",
    "# Get the estimator\n",
    "best_clf = grid_fit.best_estimator_\n",
    "\n",
    "# Make predictions using the unoptimized and model\n",
    "predictions = (clf.fit(X_train, y_train)).predict(X_test)\n",
    "best_predictions = best_clf.predict(X_test)\n",
    "\n",
    "# Report the before-and-afterscores\n",
    "print(\"Unoptimized model\\n------\")\n",
    "print(\"Accuracy score on testing data: {:.4f}\".format(accuracy_score(y_test, predictions)))\n",
    "print(\"F-score on testing data: {:.4f}\".format(fbeta_score(y_test, predictions, beta = 0.1)))\n",
    "print(\"\\nOptimized Model\\n------\")\n",
    "print(\"Final accuracy score on the testing data: {:.4f}\".format(accuracy_score(y_test, best_predictions)))\n",
    "print(\"Final F-score on the testing data: {:.4f}\".format(fbeta_score(y_test, best_predictions, beta = 0.1)))"
   ]
  },
  {
   "cell_type": "code",
   "execution_count": 100,
   "metadata": {},
   "outputs": [
    {
     "data": {
      "image/png": "[encoded data removed]",
      "text/plain": [
       "<matplotlib.figure.Figure at 0x7f898e9a3438>"
      ]
     },
     "metadata": {
      "needs_background": "light"
     },
     "output_type": "display_data"
    }
   ],
   "source": [
    "# Train the supervised model on the training set using .fit(X_train, y_train)\n",
    "model = GradientBoostingClassifier()\n",
    "model.fit(X_train,y_train)\n",
    "# Extract the feature importances using .feature_importances_ \n",
    "importances = model.feature_importances_\n",
    "\n",
    "# Plot\n",
    "vs.feature_plot(importances, X_train, y_train)"
   ]
  },
  {
   "cell_type": "markdown",
   "metadata": {},
   "source": [
    "## Discount Model (includes only discount offer data)"
   ]
  },
  {
   "cell_type": "code",
   "execution_count": 101,
   "metadata": {},
   "outputs": [
    {
     "name": "stdout",
     "output_type": "stream",
     "text": [
      "['age', 'income', 'bogo', 'discount', 'informational', 'offer_starttime', 'duration', 'difficulty', 'totalreward', 'email', 'mobile', 'social', 'web', 'offer received', 'offer viewed', 'transaction', 'offer completed', 'reward_received', 'membership_tenure', 'gender_F', 'gender_M']\n",
      "Training set has 14214 samples.\n",
      "Testing set has 3554 samples.\n"
     ]
    }
   ],
   "source": [
    "X_train, X_test, y_train, y_test = features_and_target(discount_data)"
   ]
  },
  {
   "cell_type": "code",
   "execution_count": 102,
   "metadata": {},
   "outputs": [
    {
     "name": "stdout",
     "output_type": "stream",
     "text": [
      "RandomForestClassifier trained on 142 samples.\n",
      "RandomForestClassifier trained on 1421 samples.\n",
      "RandomForestClassifier trained on 14214 samples.\n",
      "AdaBoostClassifier trained on 142 samples.\n",
      "AdaBoostClassifier trained on 1421 samples.\n",
      "AdaBoostClassifier trained on 14214 samples.\n",
      "GradientBoostingClassifier trained on 142 samples.\n",
      "GradientBoostingClassifier trained on 1421 samples.\n",
      "GradientBoostingClassifier trained on 14214 samples.\n"
     ]
    },
    {
     "data": {
      "image/png": "[encoded data removed]",
      "text/plain": [
       "<matplotlib.figure.Figure at 0x7f8994482358>"
      ]
     },
     "metadata": {
      "needs_background": "light"
     },
     "output_type": "display_data"
    }
   ],
   "source": [
    "# Initialize the three models\n",
    "clf_A = RandomForestClassifier(random_state = 10)\n",
    "clf_B = AdaBoostClassifier(random_state = 10)\n",
    "clf_C = GradientBoostingClassifier(random_state = 10)\n",
    "\n",
    "\n",
    "\n",
    "# Calculate the number of samples for 1%, 10%, and 100% of the training data\n",
    "samples_100 = int(len(y_train))\n",
    "samples_10 = int(samples_100 * 0.1)\n",
    "samples_1 = int(samples_100 * 0.01)\n",
    "\n",
    "# Collect results on the learners\n",
    "results = {}\n",
    "for clf in [clf_A, clf_B, clf_C]:\n",
    "    clf_name = clf.__class__.__name__\n",
    "    results[clf_name] = {}\n",
    "    for i, samples in enumerate([samples_1, samples_10, samples_100]):\n",
    "        results[clf_name][i] = \\\n",
    "        train_predict(clf, samples, X_train, y_train, X_test, y_test)\n",
    "\n",
    "# Run metrics visualization for the three supervised learning models chosen\n",
    "vs.evaluate(results, accuracy, fscore)"
   ]
  },
  {
   "cell_type": "code",
   "execution_count": 103,
   "metadata": {},
   "outputs": [
    {
     "name": "stdout",
     "output_type": "stream",
     "text": [
      "Unoptimized model\n",
      "------\n",
      "Accuracy score on testing data: 0.8748\n",
      "F-score on testing data: 0.6947\n",
      "\n",
      "Optimized Model\n",
      "------\n",
      "Final accuracy score on the testing data: 0.8756\n",
      "Final F-score on the testing data: 0.7021\n"
     ]
    }
   ],
   "source": [
    "# Initialize the classifier\n",
    "clf = GradientBoostingClassifier(random_state=10)\n",
    "\n",
    "# Create the parameters list you wish to tune, using a dictionary if needed.\n",
    "parameters = {'n_estimators':[80]}\n",
    "\n",
    "# Make an fbeta_score scoring object using make_scorer()\n",
    "scorer = make_scorer(fbeta_score,beta = 0.1)\n",
    "\n",
    "# Perform grid search on the classifier using 'scorer' as the scoring method using GridSearchCV()\n",
    "grid_obj = GridSearchCV(clf, parameters, scoring=scorer)\n",
    "\n",
    "# Fit the grid search object to the training data and find the optimal parameters using fit()\n",
    "grid_fit = grid_obj.fit(X_train, y_train)\n",
    "\n",
    "# Get the estimator\n",
    "best_clf = grid_fit.best_estimator_\n",
    "\n",
    "# Make predictions using the unoptimized and model\n",
    "predictions = (clf.fit(X_train, y_train)).predict(X_test)\n",
    "best_predictions = best_clf.predict(X_test)\n",
    "\n",
    "# Report the before-and-afterscores\n",
    "print(\"Unoptimized model\\n------\")\n",
    "print(\"Accuracy score on testing data: {:.4f}\".format(accuracy_score(y_test, predictions)))\n",
    "print(\"F-score on testing data: {:.4f}\".format(fbeta_score(y_test, predictions, beta = 0.1)))\n",
    "print(\"\\nOptimized Model\\n------\")\n",
    "print(\"Final accuracy score on the testing data: {:.4f}\".format(accuracy_score(y_test, best_predictions)))\n",
    "print(\"Final F-score on the testing data: {:.4f}\".format(fbeta_score(y_test, best_predictions, beta = 0.1)))"
   ]
  },
  {
   "cell_type": "code",
   "execution_count": 104,
   "metadata": {},
   "outputs": [
    {
     "data": {
      "image/png": "[encoded data removed]",
      "text/plain": [
       "<matplotlib.figure.Figure at 0x7f898e9c9240>"
      ]
     },
     "metadata": {
      "needs_background": "light"
     },
     "output_type": "display_data"
    }
   ],
   "source": [
    "# Train the supervised model on the training set using .fit(X_train, y_train)\n",
    "model = GradientBoostingClassifier()\n",
    "model.fit(X_train,y_train)\n",
    "# Extract the feature importances using .feature_importances_ \n",
    "importances = model.feature_importances_\n",
    "\n",
    "# Plot\n",
    "vs.feature_plot(importances, X_train, y_train)"
   ]
  },
  {
   "cell_type": "markdown",
   "metadata": {},
   "source": [
    "## Info Model (includes only informational offer data)"
   ]
  },
  {
   "cell_type": "code",
   "execution_count": 105,
   "metadata": {},
   "outputs": [
    {
     "name": "stdout",
     "output_type": "stream",
     "text": [
      "['age', 'income', 'bogo', 'discount', 'informational', 'offer_starttime', 'duration', 'difficulty', 'totalreward', 'email', 'mobile', 'social', 'web', 'offer received', 'offer viewed', 'transaction', 'offer completed', 'reward_received', 'membership_tenure', 'gender_F', 'gender_M']\n",
      "Training set has 7095 samples.\n",
      "Testing set has 1774 samples.\n"
     ]
    }
   ],
   "source": [
    "X_train, X_test, y_train, y_test = features_and_target(info_data)"
   ]
  },
  {
   "cell_type": "code",
   "execution_count": 106,
   "metadata": {},
   "outputs": [
    {
     "name": "stdout",
     "output_type": "stream",
     "text": [
      "RandomForestClassifier trained on 70 samples.\n",
      "RandomForestClassifier trained on 709 samples.\n",
      "RandomForestClassifier trained on 7095 samples.\n",
      "AdaBoostClassifier trained on 70 samples.\n",
      "AdaBoostClassifier trained on 709 samples.\n",
      "AdaBoostClassifier trained on 7095 samples.\n",
      "GradientBoostingClassifier trained on 70 samples.\n",
      "GradientBoostingClassifier trained on 709 samples.\n",
      "GradientBoostingClassifier trained on 7095 samples.\n"
     ]
    },
    {
     "data": {
      "image/png": "[encoded data removed]",
      "text/plain": [
       "<matplotlib.figure.Figure at 0x7f898ebda7f0>"
      ]
     },
     "metadata": {
      "needs_background": "light"
     },
     "output_type": "display_data"
    }
   ],
   "source": [
    "# Initialize the three models\n",
    "clf_A = RandomForestClassifier(random_state = 10)\n",
    "clf_B = AdaBoostClassifier(random_state = 10)\n",
    "clf_C = GradientBoostingClassifier(random_state = 10)\n",
    "\n",
    "\n",
    "\n",
    "# Calculate the number of samples for 1%, 10%, and 100% of the training data\n",
    "samples_100 = int(len(y_train))\n",
    "samples_10 = int(samples_100 * 0.1)\n",
    "samples_1 = int(samples_100 * 0.01)\n",
    "\n",
    "# Collect results on the learners\n",
    "results = {}\n",
    "for clf in [clf_A, clf_B, clf_C]:\n",
    "    clf_name = clf.__class__.__name__\n",
    "    results[clf_name] = {}\n",
    "    for i, samples in enumerate([samples_1, samples_10, samples_100]):\n",
    "        results[clf_name][i] = \\\n",
    "        train_predict(clf, samples, X_train, y_train, X_test, y_test)\n",
    "\n",
    "# Run metrics visualization for the three supervised learning models chosen\n",
    "vs.evaluate(results, accuracy, fscore)"
   ]
  },
  {
   "cell_type": "code",
   "execution_count": 107,
   "metadata": {},
   "outputs": [
    {
     "name": "stdout",
     "output_type": "stream",
     "text": [
      "Unoptimized model\n",
      "------\n",
      "Accuracy score on testing data: 0.8658\n",
      "F-score on testing data: 0.6220\n",
      "\n",
      "Optimized Model\n",
      "------\n",
      "Final accuracy score on the testing data: 0.8670\n",
      "Final F-score on the testing data: 0.6404\n"
     ]
    }
   ],
   "source": [
    "# Initialize the classifier\n",
    "clf = GradientBoostingClassifier(random_state=10)\n",
    "\n",
    "# Create the parameters list you wish to tune, using a dictionary if needed.\n",
    "parameters = {'n_estimators':[80]}\n",
    "\n",
    "# Make an fbeta_score scoring object using make_scorer()\n",
    "scorer = make_scorer(fbeta_score,beta = 0.1)\n",
    "\n",
    "# Perform grid search on the classifier using 'scorer' as the scoring method using GridSearchCV()\n",
    "grid_obj = GridSearchCV(clf, parameters, scoring=scorer)\n",
    "\n",
    "# Fit the grid search object to the training data and find the optimal parameters using fit()\n",
    "grid_fit = grid_obj.fit(X_train, y_train)\n",
    "\n",
    "# Get the estimator\n",
    "best_clf = grid_fit.best_estimator_\n",
    "\n",
    "# Make predictions using the unoptimized and model\n",
    "predictions = (clf.fit(X_train, y_train)).predict(X_test)\n",
    "best_predictions = best_clf.predict(X_test)\n",
    "\n",
    "# Report the before-and-afterscores\n",
    "print(\"Unoptimized model\\n------\")\n",
    "print(\"Accuracy score on testing data: {:.4f}\".format(accuracy_score(y_test, predictions)))\n",
    "print(\"F-score on testing data: {:.4f}\".format(fbeta_score(y_test, predictions, beta = 0.1)))\n",
    "print(\"\\nOptimized Model\\n------\")\n",
    "print(\"Final accuracy score on the testing data: {:.4f}\".format(accuracy_score(y_test, best_predictions)))\n",
    "print(\"Final F-score on the testing data: {:.4f}\".format(fbeta_score(y_test, best_predictions, beta = 0.1)))"
   ]
  },
  {
   "cell_type": "code",
   "execution_count": 108,
   "metadata": {},
   "outputs": [
    {
     "data": {
      "image/png": "[encoded data removed]",
      "text/plain": [
       "<matplotlib.figure.Figure at 0x7f898eb52780>"
      ]
     },
     "metadata": {
      "needs_background": "light"
     },
     "output_type": "display_data"
    }
   ],
   "source": [
    "# Train the supervised model on the training set using .fit(X_train, y_train)\n",
    "model = GradientBoostingClassifier()\n",
    "model.fit(X_train,y_train)\n",
    "# Extract the feature importances using .feature_importances_ \n",
    "importances = model.feature_importances_\n",
    "\n",
    "# Plot\n",
    "vs.feature_plot(importances, X_train, y_train)"
   ]
  },
  {
   "cell_type": "markdown",
   "metadata": {},
   "source": [
    "The model results are more or less similar or combined dataset and individual offer based datasets. We can see that overall completing a transcation is crucial step for an offer's success. Regarding customer demographics, customer's membership tenure, age, and income play a cruicial role. Longer the customer's membership tenure more likey they are to respond to  an offer. For informational offers, the source of information also seems to have more value add. People who received the information through social media are more likely to respond to the offer. "
   ]
  },
  {
   "cell_type": "markdown",
   "metadata": {},
   "source": [
    "## Conclusion\n",
    "\n",
    "My main focus in this project was defining a successful offer, and what features in the dataset have a high impact on offer's success.In the process I had to clean and process data, drop any outliers, or missing information that didn't add any value to the anlaysis. Since I wnated to evaluate an offer's success, I used RandomForest, AdaBoost, and GradientBoosting clasisfiers for my models, and chose the GradientBoosting as my final model due to it's high accuracy and f score on test data and shorter training time.\n",
    "\n",
    "In general the observations were as follows:\n",
    "\n",
    "- Among the people who received an offer, there was larger percentage of male population (58%) compared to females (42%).\n",
    "- Offer's success percent was slightly higher among females (20%) compared to males(18%), although for informational offers male population responded slightly better than females.\n",
    "- Most of the offers were either bogo or discount, and few informational\n",
    "- Success percent was slightly higher for bogo and discount offers (20%) compared to informational (15%) which might be attributable to reward associated with bogo/discount offers\n",
    "- Accuracy score with GradientBoosting classifier on combined dataset (includes all offer types) was 0.8738, and fscore was 0.7021 and scores were way better than naive predictor performance. This shows higher efficiency in using GradientBoosting model\n",
    "- Features that had most impact on offer's success were - transaction (customer makes a transaction), customer's membership tenure, age, income, and rewrad received on completing the offer.\n",
    "\n",
    "Reflection:\n",
    "\n",
    "This was an interesting project, I enjoyed learning more about different features that can affect an offer's success. My initial thoughts were that most of the customers will be in their 20s-30s, however after exploring the data I realized most of the customers were in 50s-60s age range. I thought offer success would be higher for men while actually it was slightly higher for females.\n",
    "\n",
    "I also had few challenges withe data processing, for example filling in offer ids for transcation records, combining the datasets and making sure I have only unique values and no duplicates so i can clearly identify the records with successful offers. Also while implementing supervised models, I had to normalize skewed data and convert non numeric variables to numerical value, and finally tuning the parameters so the resulting model ahs higher performance. \n",
    "\n",
    "Future Improvements :\n",
    "\n",
    "- Analyze results including the values that were dropped (ex - customers with no gender/ income information)\n",
    "- Analyze customer transaction data further to see how much a customer would spend\n",
    "- See if other machine learning models have an impact on the predicting power (like linear regression/decision tree)\n"
   ]
  },
  {
   "cell_type": "markdown",
   "metadata": {},
   "source": [
    "References : Udacity Finding Donors Project"
   ]
  },
  {
   "cell_type": "code",
   "execution_count": null,
   "metadata": {},
   "outputs": [],
   "source": []
  }
 ],
 "metadata": {
  "kernelspec": {
   "display_name": "Python 3",
   "language": "python",
   "name": "python3"
  },
  "language_info": {
   "codemirror_mode": {
    "name": "ipython",
    "version": 3
   },
   "file_extension": ".py",
   "mimetype": "text/x-python",
   "name": "python",
   "nbconvert_exporter": "python",
   "pygments_lexer": "ipython3",
   "version": "3.6.3"
  }
 },
 "nbformat": 4,
 "nbformat_minor": 2
}
